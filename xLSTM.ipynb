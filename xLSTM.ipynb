{
 "cells": [
  {
   "cell_type": "markdown",
   "metadata": {},
   "source": [
    "### 0. Imports and requirements"
   ]
  },
  {
   "cell_type": "code",
   "execution_count": 1,
   "metadata": {},
   "outputs": [
    {
     "name": "stdout",
     "output_type": "stream",
     "text": [
      "Defaulting to user installation because normal site-packages is not writeable\n",
      "Requirement already satisfied: xlstm in /trinity/home/team08/workspace/.local/lib/python3.10/site-packages (1.0.5)\n"
     ]
    }
   ],
   "source": [
    "!pip install xlstm"
   ]
  },
  {
   "cell_type": "code",
   "execution_count": 1,
   "metadata": {},
   "outputs": [],
   "source": [
    "%load_ext autoreload\n",
    "%autoreload 2\n",
    "\n",
    "import os\n",
    "import pandas as pd\n",
    "import sys\n",
    "import pickle\n",
    "import numpy as np\n",
    "import torch\n",
    "import torch.nn as nn\n",
    "\n",
    "from sklearn.model_selection import train_test_split\n",
    "import tqdm"
   ]
  },
  {
   "cell_type": "code",
   "execution_count": 2,
   "metadata": {},
   "outputs": [],
   "source": [
    "import matplotlib.pyplot as plt\n",
    "# plt.style.use(\"seaborn-pastel\")"
   ]
  },
  {
   "cell_type": "markdown",
   "metadata": {},
   "source": [
    "### 1. Data Preprocessing"
   ]
  },
  {
   "cell_type": "code",
   "execution_count": 3,
   "metadata": {},
   "outputs": [],
   "source": [
    "TRAIN_DATA_PATH = \".../data/train_data/\"\n",
    "TEST_DATA_PATH = \".../data/test_data/\"\n",
    "\n",
    "TRAIN_TARGET_PATH = \".../data/train_target.csv\"\n",
    "TEST_TARGET_PATH = \".../data/test_target.csv\""
   ]
  },
  {
   "cell_type": "code",
   "execution_count": 4,
   "metadata": {},
   "outputs": [
    {
     "data": {
      "text/html": [
       "<div>\n",
       "<style scoped>\n",
       "    .dataframe tbody tr th:only-of-type {\n",
       "        vertical-align: middle;\n",
       "    }\n",
       "\n",
       "    .dataframe tbody tr th {\n",
       "        vertical-align: top;\n",
       "    }\n",
       "\n",
       "    .dataframe thead th {\n",
       "        text-align: right;\n",
       "    }\n",
       "</style>\n",
       "<table border=\"1\" class=\"dataframe\">\n",
       "  <thead>\n",
       "    <tr style=\"text-align: right;\">\n",
       "      <th></th>\n",
       "      <th>id</th>\n",
       "      <th>flag</th>\n",
       "    </tr>\n",
       "  </thead>\n",
       "  <tbody>\n",
       "    <tr>\n",
       "      <th>0</th>\n",
       "      <td>0</td>\n",
       "      <td>0</td>\n",
       "    </tr>\n",
       "    <tr>\n",
       "      <th>1</th>\n",
       "      <td>1</td>\n",
       "      <td>0</td>\n",
       "    </tr>\n",
       "    <tr>\n",
       "      <th>2</th>\n",
       "      <td>2</td>\n",
       "      <td>0</td>\n",
       "    </tr>\n",
       "    <tr>\n",
       "      <th>3</th>\n",
       "      <td>3</td>\n",
       "      <td>0</td>\n",
       "    </tr>\n",
       "    <tr>\n",
       "      <th>4</th>\n",
       "      <td>4</td>\n",
       "      <td>0</td>\n",
       "    </tr>\n",
       "    <tr>\n",
       "      <th>...</th>\n",
       "      <td>...</td>\n",
       "      <td>...</td>\n",
       "    </tr>\n",
       "    <tr>\n",
       "      <th>2999995</th>\n",
       "      <td>2999995</td>\n",
       "      <td>0</td>\n",
       "    </tr>\n",
       "    <tr>\n",
       "      <th>2999996</th>\n",
       "      <td>2999996</td>\n",
       "      <td>0</td>\n",
       "    </tr>\n",
       "    <tr>\n",
       "      <th>2999997</th>\n",
       "      <td>2999997</td>\n",
       "      <td>0</td>\n",
       "    </tr>\n",
       "    <tr>\n",
       "      <th>2999998</th>\n",
       "      <td>2999998</td>\n",
       "      <td>0</td>\n",
       "    </tr>\n",
       "    <tr>\n",
       "      <th>2999999</th>\n",
       "      <td>2999999</td>\n",
       "      <td>0</td>\n",
       "    </tr>\n",
       "  </tbody>\n",
       "</table>\n",
       "<p>3000000 rows × 2 columns</p>\n",
       "</div>"
      ],
      "text/plain": [
       "              id  flag\n",
       "0              0     0\n",
       "1              1     0\n",
       "2              2     0\n",
       "3              3     0\n",
       "4              4     0\n",
       "...          ...   ...\n",
       "2999995  2999995     0\n",
       "2999996  2999996     0\n",
       "2999997  2999997     0\n",
       "2999998  2999998     0\n",
       "2999999  2999999     0\n",
       "\n",
       "[3000000 rows x 2 columns]"
      ]
     },
     "execution_count": 4,
     "metadata": {},
     "output_type": "execute_result"
    }
   ],
   "source": [
    "train_target = pd.read_csv(TRAIN_TARGET_PATH)\n",
    "train_target"
   ]
  },
  {
   "cell_type": "code",
   "execution_count": 5,
   "metadata": {},
   "outputs": [
    {
     "data": {
      "text/html": [
       "<div>\n",
       "<style scoped>\n",
       "    .dataframe tbody tr th:only-of-type {\n",
       "        vertical-align: middle;\n",
       "    }\n",
       "\n",
       "    .dataframe tbody tr th {\n",
       "        vertical-align: top;\n",
       "    }\n",
       "\n",
       "    .dataframe thead th {\n",
       "        text-align: right;\n",
       "    }\n",
       "</style>\n",
       "<table border=\"1\" class=\"dataframe\">\n",
       "  <thead>\n",
       "    <tr style=\"text-align: right;\">\n",
       "      <th></th>\n",
       "      <th>id</th>\n",
       "    </tr>\n",
       "  </thead>\n",
       "  <tbody>\n",
       "    <tr>\n",
       "      <th>0</th>\n",
       "      <td>3000000</td>\n",
       "    </tr>\n",
       "    <tr>\n",
       "      <th>1</th>\n",
       "      <td>3000001</td>\n",
       "    </tr>\n",
       "    <tr>\n",
       "      <th>2</th>\n",
       "      <td>3000002</td>\n",
       "    </tr>\n",
       "    <tr>\n",
       "      <th>3</th>\n",
       "      <td>3000003</td>\n",
       "    </tr>\n",
       "    <tr>\n",
       "      <th>4</th>\n",
       "      <td>3000004</td>\n",
       "    </tr>\n",
       "    <tr>\n",
       "      <th>...</th>\n",
       "      <td>...</td>\n",
       "    </tr>\n",
       "    <tr>\n",
       "      <th>499995</th>\n",
       "      <td>3499995</td>\n",
       "    </tr>\n",
       "    <tr>\n",
       "      <th>499996</th>\n",
       "      <td>3499996</td>\n",
       "    </tr>\n",
       "    <tr>\n",
       "      <th>499997</th>\n",
       "      <td>3499997</td>\n",
       "    </tr>\n",
       "    <tr>\n",
       "      <th>499998</th>\n",
       "      <td>3499998</td>\n",
       "    </tr>\n",
       "    <tr>\n",
       "      <th>499999</th>\n",
       "      <td>3499999</td>\n",
       "    </tr>\n",
       "  </tbody>\n",
       "</table>\n",
       "<p>500000 rows × 1 columns</p>\n",
       "</div>"
      ],
      "text/plain": [
       "             id\n",
       "0       3000000\n",
       "1       3000001\n",
       "2       3000002\n",
       "3       3000003\n",
       "4       3000004\n",
       "...         ...\n",
       "499995  3499995\n",
       "499996  3499996\n",
       "499997  3499997\n",
       "499998  3499998\n",
       "499999  3499999\n",
       "\n",
       "[500000 rows x 1 columns]"
      ]
     },
     "execution_count": 5,
     "metadata": {},
     "output_type": "execute_result"
    }
   ],
   "source": [
    "test_target = pd.read_csv(TEST_TARGET_PATH)\n",
    "test_target"
   ]
  },
  {
   "cell_type": "code",
   "execution_count": 6,
   "metadata": {},
   "outputs": [],
   "source": [
    "import os\n",
    "import pandas as pd\n",
    "import tqdm\n",
    "from typing import List\n",
    "\n",
    "from dataset_preprocessing_utils import features, transform_credits_to_sequences, create_padded_buckets\n",
    "\n",
    "\n",
    "def read_parquet_dataset_from_local(path_to_dataset: str, start_from: int = 0, num_parts_to_read: int = 2, \n",
    "                                    columns: List[str] = None, verbose: bool = False) -> pd.DataFrame:\n",
    "    \"\"\"\n",
    "    Читает ``num_parts_to_read`` партиций и преобразует их к pandas.DataFrame.\n",
    "\n",
    "    Параметры:\n",
    "    -----------\n",
    "    path_to_dataset: str\n",
    "        Путь до директории с партициями.\n",
    "    start_from: int, default=0\n",
    "        Номер партиции, с которой начать чтение.\n",
    "    num_parts_to_read: int, default=2\n",
    "        Число партиций, которые требуется прочитать.\n",
    "    columns: List[str], default=None\n",
    "        Список колонок, которые нужно прочитать из каждой партиции. Если None, то считываются все колонки.\n",
    "\n",
    "    Возвращаемое значение:\n",
    "    ----------------------\n",
    "    frame: pandas.DataFrame\n",
    "        Прочитанные партиции, преобразованные к pandas.DataFrame.\n",
    "    \"\"\"\n",
    "\n",
    "    res = []\n",
    "    start_from = max(0, start_from)\n",
    "    # dictionory of format {partition number: partition filename}\n",
    "    dataset_paths = {int(os.path.splitext(filename)[0].split(\"_\")[-1]): os.path.join(path_to_dataset, filename)\n",
    "                     for filename in os.listdir(path_to_dataset) if filename != \".ipynb_checkpoints\"}\n",
    "    chunks = [dataset_paths[num] for num in sorted(dataset_paths.keys()) if num>=start_from][:num_parts_to_read]\n",
    "    \n",
    "    if verbose:\n",
    "        print(\"Reading chunks:\", *chunks, sep=\"\\n\")\n",
    "    for chunk_path in tqdm.tqdm_notebook(chunks, desc=\"Reading dataset with pandas\"):\n",
    "        chunk = pd.read_parquet(chunk_path, columns=columns)\n",
    "        res.append(chunk)\n",
    "    return pd.concat(res).reset_index(drop=True)\n"
   ]
  },
  {
   "cell_type": "markdown",
   "metadata": {},
   "source": [
    "* В дальнейшем понадобятся следующие статистики по тренировочной и тестовой выборкам: распределение длин кредитных историй и число уникальных значений каждого категориального значения. Посчитаем эти статистики:"
   ]
  },
  {
   "cell_type": "code",
   "execution_count": 7,
   "metadata": {},
   "outputs": [
    {
     "name": "stderr",
     "output_type": "stream",
     "text": [
      "Count statistics on train data:   0%|          | 0/3 [00:00<?, ?it/s]"
     ]
    },
    {
     "name": "stdout",
     "output_type": "stream",
     "text": [
      "Reading chunks:\n",
      "/trinity/home/team08/workspace/data/train_data/train_data_0.pq\n",
      "/trinity/home/team08/workspace/data/train_data/train_data_1.pq\n",
      "/trinity/home/team08/workspace/data/train_data/train_data_2.pq\n",
      "/trinity/home/team08/workspace/data/train_data/train_data_3.pq\n"
     ]
    },
    {
     "name": "stderr",
     "output_type": "stream",
     "text": [
      "/tmp/ipykernel_2480959/1125037625.py:40: TqdmDeprecationWarning: This function will be removed in tqdm==5.0.0\n",
      "Please use `tqdm.notebook.tqdm` instead of `tqdm.tqdm_notebook`\n",
      "  for chunk_path in tqdm.tqdm_notebook(chunks, desc=\"Reading dataset with pandas\"):\n"
     ]
    },
    {
     "data": {
      "application/vnd.jupyter.widget-view+json": {
       "model_id": "692edac349214fa2861d0acc3ae928f1",
       "version_major": 2,
       "version_minor": 0
      },
      "text/plain": [
       "Reading dataset with pandas:   0%|          | 0/4 [00:00<?, ?it/s]"
      ]
     },
     "metadata": {},
     "output_type": "display_data"
    },
    {
     "name": "stderr",
     "output_type": "stream",
     "text": [
      "Count statistics on train data:  33%|███▎      | 1/3 [00:04<00:08,  4.02s/it]"
     ]
    },
    {
     "name": "stdout",
     "output_type": "stream",
     "text": [
      "Reading chunks:\n",
      "/trinity/home/team08/workspace/data/train_data/train_data_4.pq\n",
      "/trinity/home/team08/workspace/data/train_data/train_data_5.pq\n",
      "/trinity/home/team08/workspace/data/train_data/train_data_6.pq\n",
      "/trinity/home/team08/workspace/data/train_data/train_data_7.pq\n"
     ]
    },
    {
     "name": "stderr",
     "output_type": "stream",
     "text": [
      "/tmp/ipykernel_2480959/1125037625.py:40: TqdmDeprecationWarning: This function will be removed in tqdm==5.0.0\n",
      "Please use `tqdm.notebook.tqdm` instead of `tqdm.tqdm_notebook`\n",
      "  for chunk_path in tqdm.tqdm_notebook(chunks, desc=\"Reading dataset with pandas\"):\n"
     ]
    },
    {
     "data": {
      "application/vnd.jupyter.widget-view+json": {
       "model_id": "aa5f42514a504929a942716eed89c28d",
       "version_major": 2,
       "version_minor": 0
      },
      "text/plain": [
       "Reading dataset with pandas:   0%|          | 0/4 [00:00<?, ?it/s]"
      ]
     },
     "metadata": {},
     "output_type": "display_data"
    },
    {
     "name": "stderr",
     "output_type": "stream",
     "text": [
      "Count statistics on train data:  67%|██████▋   | 2/3 [00:07<00:03,  3.98s/it]"
     ]
    },
    {
     "name": "stdout",
     "output_type": "stream",
     "text": [
      "Reading chunks:\n",
      "/trinity/home/team08/workspace/data/train_data/train_data_8.pq\n",
      "/trinity/home/team08/workspace/data/train_data/train_data_9.pq\n",
      "/trinity/home/team08/workspace/data/train_data/train_data_10.pq\n",
      "/trinity/home/team08/workspace/data/train_data/train_data_11.pq\n"
     ]
    },
    {
     "name": "stderr",
     "output_type": "stream",
     "text": [
      "/tmp/ipykernel_2480959/1125037625.py:40: TqdmDeprecationWarning: This function will be removed in tqdm==5.0.0\n",
      "Please use `tqdm.notebook.tqdm` instead of `tqdm.tqdm_notebook`\n",
      "  for chunk_path in tqdm.tqdm_notebook(chunks, desc=\"Reading dataset with pandas\"):\n"
     ]
    },
    {
     "data": {
      "application/vnd.jupyter.widget-view+json": {
       "model_id": "7db317faf9d649eba11437dd2094c82b",
       "version_major": 2,
       "version_minor": 0
      },
      "text/plain": [
       "Reading dataset with pandas:   0%|          | 0/4 [00:00<?, ?it/s]"
      ]
     },
     "metadata": {},
     "output_type": "display_data"
    },
    {
     "name": "stderr",
     "output_type": "stream",
     "text": [
      "Count statistics on train data: 100%|██████████| 3/3 [00:12<00:00,  4.07s/it]\n",
      "Count statistics on test data:   0%|          | 0/1 [00:00<?, ?it/s]"
     ]
    },
    {
     "name": "stdout",
     "output_type": "stream",
     "text": [
      "Reading chunks:\n",
      "/trinity/home/team08/workspace/data/test_data/test_data_0.pq\n",
      "/trinity/home/team08/workspace/data/test_data/test_data_1.pq\n"
     ]
    },
    {
     "name": "stderr",
     "output_type": "stream",
     "text": [
      "/tmp/ipykernel_2480959/1125037625.py:40: TqdmDeprecationWarning: This function will be removed in tqdm==5.0.0\n",
      "Please use `tqdm.notebook.tqdm` instead of `tqdm.tqdm_notebook`\n",
      "  for chunk_path in tqdm.tqdm_notebook(chunks, desc=\"Reading dataset with pandas\"):\n"
     ]
    },
    {
     "data": {
      "application/vnd.jupyter.widget-view+json": {
       "model_id": "24adb1d968754cb483f23045d94e34ad",
       "version_major": 2,
       "version_minor": 0
      },
      "text/plain": [
       "Reading dataset with pandas:   0%|          | 0/2 [00:00<?, ?it/s]"
      ]
     },
     "metadata": {},
     "output_type": "display_data"
    },
    {
     "name": "stderr",
     "output_type": "stream",
     "text": [
      "Count statistics on test data: 100%|██████████| 1/1 [00:02<00:00,  2.18s/it]\n"
     ]
    },
    {
     "name": "stdout",
     "output_type": "stream",
     "text": [
      "CPU times: user 32.5 s, sys: 15.2 s, total: 47.7 s\n",
      "Wall time: 18.5 s\n"
     ]
    }
   ],
   "source": [
    "%%time\n",
    "from collections import defaultdict\n",
    "import tqdm\n",
    "\n",
    "train_lens = []\n",
    "test_lens = []\n",
    "uniques = defaultdict(set)\n",
    "\n",
    "for step in tqdm.tqdm(range(0, 12, 4),\n",
    "                     desc=\"Count statistics on train data\"):\n",
    "        credits_frame = read_parquet_dataset_from_local(TRAIN_DATA_PATH, step, 4, verbose=True)\n",
    "        seq_lens = credits_frame.groupby(\"id\").agg(seq_len=(\"rn\", \"max\"))[\"seq_len\"].values\n",
    "        train_lens.extend(seq_lens)\n",
    "        credits_frame.drop(columns=[\"id\", \"rn\"], inplace=True)\n",
    "        for feat in credits_frame.columns.values:\n",
    "            uniques[feat] = uniques[feat].union(credits_frame[feat].unique())\n",
    "train_lens = np.hstack(train_lens)\n",
    "\n",
    "for step in tqdm.tqdm(range(0, 2, 2),\n",
    "                     desc=\"Count statistics on test data\"):\n",
    "        credits_frame = read_parquet_dataset_from_local(TEST_DATA_PATH, step, 2, verbose=True)\n",
    "        seq_lens = credits_frame.groupby(\"id\").agg(seq_len=(\"rn\", \"max\"))[\"seq_len\"].values\n",
    "        test_lens.extend(seq_lens)\n",
    "        credits_frame.drop(columns=[\"id\", \"rn\"], inplace=True)\n",
    "        for feat in credits_frame.columns.values:\n",
    "            uniques[feat] = uniques[feat].union(credits_frame[feat].unique())\n",
    "test_lens = np.hstack(test_lens)\n",
    "uniques = dict(uniques)"
   ]
  },
  {
   "cell_type": "markdown",
   "metadata": {},
   "source": [
    "* Чтобы сразу убедиться, что посчитанные статистики интересные и полезные, построим графики распределений длин кредитных историй в тренировочной и тестовой выборках"
   ]
  },
  {
   "cell_type": "code",
   "execution_count": 8,
   "metadata": {},
   "outputs": [],
   "source": [
    "from collections import Counter\n",
    "\n",
    "\n",
    "train_len_counter = pd.Series(Counter(train_lens)).sort_index()\n",
    "test_len_counter = pd.Series(Counter(test_lens)).sort_index()"
   ]
  },
  {
   "cell_type": "code",
   "execution_count": 9,
   "metadata": {},
   "outputs": [
    {
     "data": {
      "text/plain": [
       "<BarContainer object of 54 artists>"
      ]
     },
     "execution_count": 9,
     "metadata": {},
     "output_type": "execute_result"
    },
    {
     "data": {
      "image/png": "[encoded data removed]",
      "text/plain": [
       "<Figure size 1500x600 with 1 Axes>"
      ]
     },
     "metadata": {},
     "output_type": "display_data"
    }
   ],
   "source": [
    "fig, ax = plt.subplots(figsize=(15, 6), nrows=1)\n",
    "ax.bar(train_len_counter.index.values, train_len_counter.values)"
   ]
  },
  {
   "cell_type": "code",
   "execution_count": 10,
   "metadata": {},
   "outputs": [
    {
     "data": {
      "text/plain": [
       "<BarContainer object of 50 artists>"
      ]
     },
     "execution_count": 10,
     "metadata": {},
     "output_type": "execute_result"
    },
    {
     "data": {
      "image/png": "[encoded data removed]",
      "text/plain": [
       "<Figure size 1500x600 with 1 Axes>"
      ]
     },
     "metadata": {},
     "output_type": "display_data"
    }
   ],
   "source": [
    "fig, ax = plt.subplots(figsize=(15, 6), nrows=1)\n",
    "ax.bar(test_len_counter.index.values, test_len_counter.values)"
   ]
  },
  {
   "cell_type": "code",
   "execution_count": 11,
   "metadata": {},
   "outputs": [
    {
     "data": {
      "text/plain": [
       "(58, 57)"
      ]
     },
     "execution_count": 11,
     "metadata": {},
     "output_type": "execute_result"
    }
   ],
   "source": [
    "train_lens.max(), test_lens.max()"
   ]
  },
  {
   "cell_type": "markdown",
   "metadata": {},
   "source": [
    "* Один из аргументов в функции `dataset_preprocessing_utils.create_padded_buckets` &ndash; `bucket_info` &ndash; словарь, где для конкретной длины последовательности указано до какой длины нужно делать паддинг. Возьмем простое разбиение на 43 бакета: \n",
    "| Длина последовательности | Длина после паддинга |\n",
    "| :-: | :-: \n",
    "| 1 &ndash; 40 | без изменений |\n",
    "| 41 &ndash; 45 | 45 |\n",
    "| 46 &ndash; 50 | 50 |\n",
    "| 51 &ndash; 58 | 58 |"
   ]
  },
  {
   "cell_type": "code",
   "execution_count": 12,
   "metadata": {},
   "outputs": [
    {
     "data": {
      "text/plain": [
       "{1: 1,\n",
       " 2: 2,\n",
       " 3: 3,\n",
       " 4: 4,\n",
       " 5: 5,\n",
       " 6: 6,\n",
       " 7: 7,\n",
       " 8: 8,\n",
       " 9: 9,\n",
       " 10: 10,\n",
       " 11: 11,\n",
       " 12: 12,\n",
       " 13: 13,\n",
       " 14: 14,\n",
       " 15: 15,\n",
       " 16: 16,\n",
       " 17: 17,\n",
       " 18: 18,\n",
       " 19: 19,\n",
       " 20: 20,\n",
       " 21: 21,\n",
       " 22: 22,\n",
       " 23: 23,\n",
       " 24: 24,\n",
       " 25: 25,\n",
       " 26: 26,\n",
       " 27: 27,\n",
       " 28: 28,\n",
       " 29: 29,\n",
       " 30: 30,\n",
       " 31: 31,\n",
       " 32: 32,\n",
       " 33: 33,\n",
       " 34: 34,\n",
       " 35: 35,\n",
       " 36: 36,\n",
       " 37: 37,\n",
       " 38: 38,\n",
       " 39: 39,\n",
       " 40: 40,\n",
       " 41: 45,\n",
       " 42: 45,\n",
       " 43: 45,\n",
       " 44: 45,\n",
       " 45: 45,\n",
       " 46: 50,\n",
       " 47: 50,\n",
       " 48: 50,\n",
       " 49: 50,\n",
       " 50: 50,\n",
       " 51: 58,\n",
       " 52: 58,\n",
       " 53: 58,\n",
       " 54: 58,\n",
       " 55: 58,\n",
       " 56: 58,\n",
       " 57: 58,\n",
       " 58: 58}"
      ]
     },
     "execution_count": 12,
     "metadata": {},
     "output_type": "execute_result"
    }
   ],
   "source": [
    "keys_ = list(range(1, 59)) \n",
    "lens_ = list(range(1, 41)) + [45] * 5 + [50] * 5 + [58] * 8\n",
    "bucket_info = dict(zip(keys_, lens_))\n",
    "bucket_info"
   ]
  },
  {
   "cell_type": "markdown",
   "metadata": {},
   "source": [
    "* Так же рассмотрим уникальные значения признаков"
   ]
  },
  {
   "cell_type": "code",
   "execution_count": 13,
   "metadata": {},
   "outputs": [
    {
     "name": "stdout",
     "output_type": "stream",
     "text": [
      "Feature: pre_since_opened, unique values: {0, 1, 2, 3, 4, 5, 6, 7, 8, 9, 10, 11, 12, 13, 14, 15, 16, 17, 18, 19}\n",
      "Feature: pre_since_confirmed, unique values: {0, 1, 2, 3, 4, 5, 6, 7, 8, 9, 10, 11, 12, 13, 14, 15, 16, 17}\n",
      "Feature: pre_pterm, unique values: {0, 1, 2, 3, 4, 5, 6, 7, 8, 9, 10, 11, 12, 13, 14, 15, 16, 17}\n",
      "Feature: pre_fterm, unique values: {0, 1, 2, 3, 4, 5, 6, 7, 8, 9, 10, 11, 12, 13, 14, 15, 16}\n",
      "Feature: pre_till_pclose, unique values: {0, 1, 2, 3, 4, 5, 6, 7, 8, 9, 10, 11, 12, 13, 14, 15, 16}\n",
      "Feature: pre_till_fclose, unique values: {0, 1, 2, 3, 4, 5, 6, 7, 8, 9, 10, 11, 12, 13, 14, 15}\n",
      "Feature: pre_loans_credit_limit, unique values: {0, 1, 2, 3, 4, 5, 6, 7, 8, 9, 10, 11, 12, 13, 14, 15, 16, 17, 18, 19}\n",
      "Feature: pre_loans_next_pay_summ, unique values: {0, 1, 2, 3, 4, 5, 6, 7}\n",
      "Feature: pre_loans_outstanding, unique values: {1, 2, 3, 4, 5}\n",
      "Feature: pre_loans_total_overdue, unique values: {0, 1}\n",
      "Feature: pre_loans_max_overdue_sum, unique values: {0, 1, 2, 3}\n",
      "Feature: pre_loans_credit_cost_rate, unique values: {0, 1, 2, 3, 4, 5, 6, 7, 8, 9, 10, 11, 12, 13}\n",
      "Feature: pre_loans5, unique values: {0, 1, 2, 3, 4, 5, 6, 7, 8, 9, 10, 11, 13, 14, 15, 16, 17}\n",
      "Feature: pre_loans530, unique values: {0, 1, 2, 3, 4, 5, 6, 7, 8, 9, 10, 11, 12, 13, 14, 15, 16, 17, 18, 19}\n",
      "Feature: pre_loans3060, unique values: {0, 1, 2, 3, 4, 5, 6, 7, 8, 9}\n",
      "Feature: pre_loans6090, unique values: {0, 1, 2, 3, 4, 5}\n",
      "Feature: pre_loans90, unique values: {1, 2, 3, 4, 8, 10, 11, 13, 14, 18, 19}\n",
      "Feature: is_zero_loans5, unique values: {0, 1}\n",
      "Feature: is_zero_loans530, unique values: {0, 1}\n",
      "Feature: is_zero_loans3060, unique values: {0, 1}\n",
      "Feature: is_zero_loans6090, unique values: {0, 1}\n",
      "Feature: is_zero_loans90, unique values: {0, 1}\n",
      "Feature: pre_util, unique values: {0, 1, 2, 3, 4, 5, 6, 7, 8, 9, 10, 11, 12, 13, 14, 15, 16, 17, 18, 19}\n",
      "Feature: pre_over2limit, unique values: {0, 1, 2, 3, 4, 5, 6, 7, 8, 9, 10, 11, 12, 13, 14, 15, 16, 17, 18, 19}\n",
      "Feature: pre_maxover2limit, unique values: {0, 1, 2, 3, 4, 5, 6, 7, 8, 9, 10, 11, 12, 13, 14, 15, 16, 17, 18, 19}\n",
      "Feature: is_zero_util, unique values: {0, 1}\n",
      "Feature: is_zero_over2limit, unique values: {0, 1}\n",
      "Feature: is_zero_maxover2limit, unique values: {0, 1}\n",
      "Feature: enc_paym_0, unique values: {0, 1, 2, 3}\n",
      "Feature: enc_paym_1, unique values: {0, 1, 2, 3}\n",
      "Feature: enc_paym_2, unique values: {0, 1, 2, 3}\n",
      "Feature: enc_paym_3, unique values: {0, 1, 2, 3}\n",
      "Feature: enc_paym_4, unique values: {0, 1, 2, 3}\n",
      "Feature: enc_paym_5, unique values: {0, 1, 2, 3}\n",
      "Feature: enc_paym_6, unique values: {0, 1, 2, 3}\n",
      "Feature: enc_paym_7, unique values: {0, 1, 2, 3}\n",
      "Feature: enc_paym_8, unique values: {0, 1, 2, 3}\n",
      "Feature: enc_paym_9, unique values: {0, 1, 2, 3}\n",
      "Feature: enc_paym_10, unique values: {0, 1, 2, 3}\n",
      "Feature: enc_paym_11, unique values: {1, 2, 3, 4}\n",
      "Feature: enc_paym_12, unique values: {0, 1, 2, 3}\n",
      "Feature: enc_paym_13, unique values: {0, 1, 2, 3}\n",
      "Feature: enc_paym_14, unique values: {0, 1, 2, 3}\n",
      "Feature: enc_paym_15, unique values: {0, 1, 2, 3}\n",
      "Feature: enc_paym_16, unique values: {0, 1, 2, 3}\n",
      "Feature: enc_paym_17, unique values: {0, 1, 2, 3}\n",
      "Feature: enc_paym_18, unique values: {0, 1, 2, 3}\n",
      "Feature: enc_paym_19, unique values: {0, 1, 2, 3}\n",
      "Feature: enc_paym_20, unique values: {1, 2, 3, 4}\n",
      "Feature: enc_paym_21, unique values: {0, 1, 2, 3}\n",
      "Feature: enc_paym_22, unique values: {0, 1, 2, 3}\n",
      "Feature: enc_paym_23, unique values: {0, 1, 2, 3}\n",
      "Feature: enc_paym_24, unique values: {1, 2, 3, 4}\n",
      "Feature: enc_loans_account_holder_type, unique values: {0, 1, 2, 3, 4, 5, 6}\n",
      "Feature: enc_loans_credit_status, unique values: {0, 1, 2, 3, 4, 5, 6}\n",
      "Feature: enc_loans_credit_type, unique values: {0, 1, 2, 3, 4, 5, 6, 7}\n",
      "Feature: enc_loans_account_cur, unique values: {0, 1, 2, 3}\n",
      "Feature: pclose_flag, unique values: {0, 1}\n",
      "Feature: fclose_flag, unique values: {0, 1}\n"
     ]
    }
   ],
   "source": [
    "for feat, uniq in uniques.items():\n",
    "    print(f\"Feature: {feat}, unique values: {uniq}\")"
   ]
  },
  {
   "cell_type": "markdown",
   "metadata": {},
   "source": [
    "* Поскольку паддинг будет производиться нулями, а категориальные признаки закодированы, начиная с 0, перед паддингом будем сдвигать все значения на 1."
   ]
  },
  {
   "cell_type": "markdown",
   "metadata": {},
   "source": [
    "* Вся описанная выше предобработка данных реализована в виде функции `create_buckets_from_credits`:"
   ]
  },
  {
   "cell_type": "code",
   "execution_count": 14,
   "metadata": {},
   "outputs": [],
   "source": [
    "def create_buckets_from_credits(path_to_dataset, bucket_info, save_to_path, frame_with_ids = None, \n",
    "                                num_parts_to_preprocess_at_once: int = 1, \n",
    "                                num_parts_total=50, has_target=False):\n",
    "    block = 0\n",
    "    for step in tqdm.notebook.tqdm(range(0, num_parts_total, num_parts_to_preprocess_at_once),\n",
    "                     desc=\"Preparing credit data\"):\n",
    "        credits_frame = read_parquet_dataset_from_local(path_to_dataset, step, num_parts_to_preprocess_at_once, verbose=True)\n",
    "        credits_frame.loc[:, features] += 1       \n",
    "        seq = transform_credits_to_sequences(credits_frame)\n",
    "        print(\"Transforming credits to sequences is done.\")\n",
    "        \n",
    "        if frame_with_ids is not None:\n",
    "            seq = seq.merge(frame_with_ids, on=\"id\")\n",
    "\n",
    "        block_as_str = str(block)\n",
    "        if len(block_as_str) == 1:\n",
    "            block_as_str = \"00\" + block_as_str\n",
    "        else:\n",
    "            block_as_str = \"0\" + block_as_str\n",
    "            \n",
    "        processed_fragment =  create_padded_buckets(seq, bucket_info=bucket_info, has_target=has_target, \n",
    "                                                    save_to_file_path=os.path.join(save_to_path, \n",
    "                                                                                   f\"processed_chunk_{block_as_str}.pkl\"))\n",
    "        block += 1"
   ]
  },
  {
   "cell_type": "markdown",
   "metadata": {},
   "source": [
    "* Разобьем обучающие данные на тренировочную и валидационную выборки. Воспользуемся самым простым способом &ndash; для валидации случайным образом выберем 10% обучающих данных."
   ]
  },
  {
   "cell_type": "code",
   "execution_count": 15,
   "metadata": {},
   "outputs": [
    {
     "data": {
      "text/plain": [
       "((2700000, 2), (300000, 2))"
      ]
     },
     "execution_count": 15,
     "metadata": {},
     "output_type": "execute_result"
    }
   ],
   "source": [
    "train, val = train_test_split(train_target, random_state=42, test_size=0.1)\n",
    "train.shape, val.shape"
   ]
  },
  {
   "cell_type": "code",
   "execution_count": 16,
   "metadata": {},
   "outputs": [],
   "source": [
    "TRAIN_BUCKETS_PATH = \"/trinity/home/team08/workspace/data/train_buckets_rnn\"\n",
    "VAL_BUCKETS_PATH = \"/trinity/home/team08/workspace/data/val_buckets_rnn\"\n",
    "TEST_BUCKETS_PATH = \"/trinity/home/team08/workspace/data/test_buckets_rnn\""
   ]
  },
  {
   "cell_type": "code",
   "execution_count": 17,
   "metadata": {},
   "outputs": [],
   "source": [
    "# for buckets_path in [TRAIN_BUCKETS_PATH, VAL_BUCKETS_PATH, TEST_BUCKETS_PATH]:\n",
    "#     !rm -rf $buckets_path\n",
    "#     !mkdir $buckets_path"
   ]
  },
  {
   "cell_type": "code",
   "execution_count": 18,
   "metadata": {},
   "outputs": [
    {
     "name": "stdout",
     "output_type": "stream",
     "text": [
      "CPU times: user 118 µs, sys: 49 µs, total: 167 µs\n",
      "Wall time: 333 µs\n"
     ]
    },
    {
     "data": {
      "text/plain": [
       "['/trinity/home/team08/workspace/data/train_buckets_rnn/processed_chunk_000.pkl']"
      ]
     },
     "execution_count": 18,
     "metadata": {},
     "output_type": "execute_result"
    }
   ],
   "source": [
    "%%time\n",
    "# create_buckets_from_credits(TRAIN_DATA_PATH,\n",
    "#                             bucket_info=bucket_info,\n",
    "#                             save_to_path=TRAIN_BUCKETS_PATH,\n",
    "#                             frame_with_ids=train,\n",
    "#                             num_parts_to_preprocess_at_once=4, \n",
    "#                             num_parts_total=12, has_target=True)\n",
    "\n",
    "dataset_train = sorted([\n",
    "    os.path.join(TRAIN_BUCKETS_PATH, x) \n",
    "    for x in os.listdir(TRAIN_BUCKETS_PATH) \n",
    "    if os.path.isfile(os.path.join(TRAIN_BUCKETS_PATH, x))  # Ensure it's a file, not a directory\n",
    "])\n",
    "dataset_train"
   ]
  },
  {
   "cell_type": "code",
   "execution_count": 19,
   "metadata": {},
   "outputs": [
    {
     "name": "stdout",
     "output_type": "stream",
     "text": [
      "CPU times: user 165 µs, sys: 0 ns, total: 165 µs\n",
      "Wall time: 244 µs\n"
     ]
    },
    {
     "data": {
      "text/plain": [
       "['/trinity/home/team08/workspace/data/val_buckets_rnn/processed_chunk_000.pkl']"
      ]
     },
     "execution_count": 19,
     "metadata": {},
     "output_type": "execute_result"
    }
   ],
   "source": [
    "%%time\n",
    "# create_buckets_from_credits(TRAIN_DATA_PATH,\n",
    "#                             bucket_info=bucket_info,\n",
    "#                             save_to_path=VAL_BUCKETS_PATH,\n",
    "#                             frame_with_ids=val,\n",
    "#                             num_parts_to_preprocess_at_once=4, \n",
    "#                             num_parts_total=12, has_target=True)\n",
    "\n",
    "dataset_val = sorted([\n",
    "    os.path.join(VAL_BUCKETS_PATH, x) \n",
    "    for x in os.listdir(VAL_BUCKETS_PATH) \n",
    "    if os.path.isfile(os.path.join(VAL_BUCKETS_PATH, x))  # Ensure it's a file, not a directory\n",
    "])\n",
    "\n",
    "dataset_val"
   ]
  },
  {
   "cell_type": "code",
   "execution_count": 20,
   "metadata": {},
   "outputs": [
    {
     "name": "stdout",
     "output_type": "stream",
     "text": [
      "CPU times: user 78 µs, sys: 32 µs, total: 110 µs\n",
      "Wall time: 148 µs\n"
     ]
    },
    {
     "data": {
      "text/plain": [
       "['/trinity/home/team08/workspace/data/test_buckets_rnn/processed_chunk_000.pkl']"
      ]
     },
     "execution_count": 20,
     "metadata": {},
     "output_type": "execute_result"
    }
   ],
   "source": [
    "%%time\n",
    "# create_buckets_from_credits(TEST_DATA_PATH,\n",
    "#                             bucket_info=bucket_info,\n",
    "#                             save_to_path=TEST_BUCKETS_PATH, num_parts_to_preprocess_at_once=2, \n",
    "#                             num_parts_total=2)\n",
    "\n",
    "dataset_test = sorted([os.path.join(TEST_BUCKETS_PATH, x) for x in os.listdir(TEST_BUCKETS_PATH)])\n",
    "dataset_test"
   ]
  },
  {
   "cell_type": "code",
   "execution_count": 21,
   "metadata": {},
   "outputs": [
    {
     "data": {
      "text/plain": [
       "24"
      ]
     },
     "execution_count": 21,
     "metadata": {},
     "output_type": "execute_result"
    }
   ],
   "source": [
    "dataset_train\n",
    "\n",
    "temp_file_path = '/trinity/home/team08/workspace/data/train_buckets_rnn/processed_chunk_000.pkl'\n",
    "\n",
    "with open(temp_file_path, 'rb') as file:\n",
    "    data = pickle.load(file)\n",
    "\n",
    "len(data['padded_sequences'][23][0][3])"
   ]
  },
  {
   "cell_type": "code",
   "execution_count": 22,
   "metadata": {},
   "outputs": [
    {
     "data": {
      "text/plain": [
       "4"
      ]
     },
     "execution_count": 22,
     "metadata": {},
     "output_type": "execute_result"
    }
   ],
   "source": [
    "data['id'][0][0]"
   ]
  },
  {
   "cell_type": "markdown",
   "metadata": {},
   "source": [
    "### 2. Modeling"
   ]
  },
  {
   "cell_type": "code",
   "execution_count": 23,
   "metadata": {},
   "outputs": [],
   "source": [
    "import torch"
   ]
  },
  {
   "cell_type": "code",
   "execution_count": 24,
   "metadata": {},
   "outputs": [
    {
     "name": "stdout",
     "output_type": "stream",
     "text": [
      "Using device: cuda\n"
     ]
    }
   ],
   "source": [
    "device = torch.device('cuda' if torch.cuda.is_available() else 'cpu')\n",
    "print('Using device:', device)"
   ]
  },
  {
   "cell_type": "code",
   "execution_count": 25,
   "metadata": {},
   "outputs": [],
   "source": [
    "from data_generators import batches_generator\n",
    "from pytorch_training import eval_model, inference\n",
    "from training_aux import EarlyStopping"
   ]
  },
  {
   "cell_type": "code",
   "execution_count": 26,
   "metadata": {},
   "outputs": [],
   "source": [
    "def compute_embed_dim(n_cat: int) -> int:\n",
    "    return min(600, round(1.6 * n_cat**0.56))"
   ]
  },
  {
   "cell_type": "code",
   "execution_count": 27,
   "metadata": {},
   "outputs": [
    {
     "data": {
      "text/plain": [
       "{'pre_since_opened': (20, 9),\n",
       " 'pre_since_confirmed': (18, 8),\n",
       " 'pre_pterm': (18, 8),\n",
       " 'pre_fterm': (17, 8),\n",
       " 'pre_till_pclose': (17, 8),\n",
       " 'pre_till_fclose': (16, 8),\n",
       " 'pre_loans_credit_limit': (20, 9),\n",
       " 'pre_loans_next_pay_summ': (8, 5),\n",
       " 'pre_loans_outstanding': (6, 4),\n",
       " 'pre_loans_total_overdue': (2, 2),\n",
       " 'pre_loans_max_overdue_sum': (4, 3),\n",
       " 'pre_loans_credit_cost_rate': (14, 7),\n",
       " 'pre_loans5': (18, 8),\n",
       " 'pre_loans530': (20, 9),\n",
       " 'pre_loans3060': (10, 6),\n",
       " 'pre_loans6090': (6, 4),\n",
       " 'pre_loans90': (20, 9),\n",
       " 'is_zero_loans5': (2, 2),\n",
       " 'is_zero_loans530': (2, 2),\n",
       " 'is_zero_loans3060': (2, 2),\n",
       " 'is_zero_loans6090': (2, 2),\n",
       " 'is_zero_loans90': (2, 2),\n",
       " 'pre_util': (20, 9),\n",
       " 'pre_over2limit': (20, 9),\n",
       " 'pre_maxover2limit': (20, 9),\n",
       " 'is_zero_util': (2, 2),\n",
       " 'is_zero_over2limit': (2, 2),\n",
       " 'is_zero_maxover2limit': (2, 2),\n",
       " 'enc_paym_0': (4, 3),\n",
       " 'enc_paym_1': (4, 3),\n",
       " 'enc_paym_2': (4, 3),\n",
       " 'enc_paym_3': (4, 3),\n",
       " 'enc_paym_4': (4, 3),\n",
       " 'enc_paym_5': (4, 3),\n",
       " 'enc_paym_6': (4, 3),\n",
       " 'enc_paym_7': (4, 3),\n",
       " 'enc_paym_8': (4, 3),\n",
       " 'enc_paym_9': (4, 3),\n",
       " 'enc_paym_10': (4, 3),\n",
       " 'enc_paym_11': (5, 4),\n",
       " 'enc_paym_12': (4, 3),\n",
       " 'enc_paym_13': (4, 3),\n",
       " 'enc_paym_14': (4, 3),\n",
       " 'enc_paym_15': (4, 3),\n",
       " 'enc_paym_16': (4, 3),\n",
       " 'enc_paym_17': (4, 3),\n",
       " 'enc_paym_18': (4, 3),\n",
       " 'enc_paym_19': (4, 3),\n",
       " 'enc_paym_20': (5, 4),\n",
       " 'enc_paym_21': (4, 3),\n",
       " 'enc_paym_22': (4, 3),\n",
       " 'enc_paym_23': (4, 3),\n",
       " 'enc_paym_24': (5, 4),\n",
       " 'enc_loans_account_holder_type': (7, 5),\n",
       " 'enc_loans_credit_status': (7, 5),\n",
       " 'enc_loans_credit_type': (8, 5),\n",
       " 'enc_loans_account_cur': (4, 3),\n",
       " 'pclose_flag': (2, 2),\n",
       " 'fclose_flag': (2, 2)}"
      ]
     },
     "execution_count": 27,
     "metadata": {},
     "output_type": "execute_result"
    }
   ],
   "source": [
    "embedding_projections = {feat: (max(uniq)+1, compute_embed_dim(max(uniq)+1)) for feat, uniq in uniques.items()}\n",
    "embedding_projections"
   ]
  },
  {
   "cell_type": "code",
   "execution_count": 1,
   "metadata": {},
   "outputs": [],
   "source": [
    "import torch\n",
    "import torch.nn as nn\n",
    "import torch.nn.functional as F\n",
    " \n",
    "class CausalConv1D(nn.Module):\n",
    "     def __init__(self, in_channels, out_channels, kernel_size, dilation=1, **kwargs):\n",
    "         super(CausalConv1D, self).__init__()\n",
    "         self.padding = (kernel_size - 1) * dilation\n",
    "         self.conv = nn.Conv1d(in_channels, out_channels, kernel_size, padding=self.padding, dilation=dilation, **kwargs)\n",
    " \n",
    "     def forward(self, x):\n",
    "         x = self.conv(x)\n",
    "         return x[:, :, :-self.padding]\n",
    " \n",
    "class BlockDiagonal(nn.Module):\n",
    "     def __init__(self, in_features, out_features, num_blocks):\n",
    "         super(BlockDiagonal, self).__init__()\n",
    "         self.in_features = in_features\n",
    "         self.out_features = out_features\n",
    "         self.num_blocks = num_blocks\n",
    " \n",
    "         assert in_features % num_blocks == 0\n",
    "         assert out_features % num_blocks == 0\n",
    "         \n",
    "         block_in_features = in_features // num_blocks\n",
    "         block_out_features = out_features // num_blocks\n",
    "         \n",
    "         self.blocks = nn.ModuleList([\n",
    "             nn.Linear(block_in_features, block_out_features)\n",
    "             for _ in range(num_blocks)\n",
    "         ])\n",
    "         \n",
    "     def forward(self, x):\n",
    "         x = x.chunk(self.num_blocks, dim=-1)\n",
    "         x = [block(x_i) for block, x_i in zip(self.blocks, x)]\n",
    "         x = torch.cat(x, dim=-1)\n",
    "         return x\n",
    " \n",
    "class sLSTMBlock(nn.Module):\n",
    "     def __init__(self, input_size, hidden_size, num_heads, proj_factor=4/3):\n",
    "         super(sLSTMBlock, self).__init__()\n",
    "         self.input_size = input_size\n",
    "         self.hidden_size = hidden_size\n",
    "         self.num_heads = num_heads\n",
    "         self.head_size = hidden_size // num_heads\n",
    "         self.proj_factor = proj_factor\n",
    " \n",
    "         assert hidden_size % num_heads == 0\n",
    "         assert proj_factor > 0\n",
    " \n",
    "         self.layer_norm = nn.LayerNorm(input_size)\n",
    "         self.causal_conv = CausalConv1D(1, 1, 4)\n",
    " \n",
    "         self.Wz = BlockDiagonal(input_size, hidden_size, num_heads)\n",
    "         self.Wi = BlockDiagonal(input_size, hidden_size, num_heads)\n",
    "         self.Wf = BlockDiagonal(input_size, hidden_size, num_heads)\n",
    "         self.Wo = BlockDiagonal(input_size, hidden_size, num_heads)\n",
    " \n",
    "         self.Rz = BlockDiagonal(hidden_size, hidden_size, num_heads)\n",
    "         self.Ri = BlockDiagonal(hidden_size, hidden_size, num_heads)\n",
    "         self.Rf = BlockDiagonal(hidden_size, hidden_size, num_heads)\n",
    "         self.Ro = BlockDiagonal(hidden_size, hidden_size, num_heads)\n",
    " \n",
    "         self.group_norm = nn.GroupNorm(num_heads, hidden_size)\n",
    " \n",
    "         self.up_proj_left = nn.Linear(hidden_size, int(hidden_size * proj_factor))\n",
    "         self.up_proj_right = nn.Linear(hidden_size, int(hidden_size * proj_factor))\n",
    "         self.down_proj = nn.Linear(int(hidden_size * proj_factor), input_size)\n",
    " \n",
    "     def forward(self, x, prev_state):\n",
    "         assert x.size(-1) == self.input_size\n",
    "         h_prev, c_prev, n_prev, m_prev = prev_state\n",
    "         x_norm = self.layer_norm(x)\n",
    "         x_conv = F.silu(self.causal_conv(x_norm.unsqueeze(1)).squeeze(1))\n",
    " \n",
    "         z = torch.tanh(self.Wz(x) + self.Rz(h_prev))\n",
    "         o = torch.sigmoid(self.Wo(x) + self.Ro(h_prev))\n",
    "         i_tilde = self.Wi(x_conv) + self.Ri(h_prev)\n",
    "         f_tilde = self.Wf(x_conv) + self.Rf(h_prev)\n",
    " \n",
    "         m_t = torch.max(f_tilde + m_prev, i_tilde)\n",
    "         i = torch.exp(i_tilde - m_t)\n",
    "         f = torch.exp(f_tilde + m_prev - m_t)\n",
    " \n",
    "         c_t = f * c_prev + i * z\n",
    "         n_t = f * n_prev + i\n",
    "         h_t = o * c_t / n_t\n",
    " \n",
    "         output = h_t\n",
    "         output_norm = self.group_norm(output)\n",
    "         output_left = self.up_proj_left(output_norm)\n",
    "         output_right = self.up_proj_right(output_norm)\n",
    "         output_gated = F.gelu(output_right)\n",
    "         output = output_left * output_gated\n",
    "         output = self.down_proj(output)\n",
    "         final_output = output + x\n",
    " \n",
    "         return final_output, (h_t, c_t, n_t, m_t)\n",
    "     \n",
    "class sLSTM(nn.Module):\n",
    "     # TODO: Add bias, dropout, bidirectional\n",
    "     def __init__(self, input_size, hidden_size, num_heads, num_layers=1, batch_first=False, proj_factor=4/3):\n",
    "         super(sLSTM, self).__init__()\n",
    "         self.input_size = input_size\n",
    "         self.hidden_size = hidden_size\n",
    "         self.num_heads = num_heads\n",
    "         self.num_layers = num_layers\n",
    "         self.batch_first = batch_first\n",
    "         self.proj_factor_slstm = proj_factor\n",
    " \n",
    "         self.layers = nn.ModuleList([sLSTMBlock(input_size, hidden_size, num_heads, proj_factor) for _ in range(num_layers)])\n",
    " \n",
    "     def forward(self, x, state=None):\n",
    "         assert x.ndim == 3\n",
    "         if self.batch_first: x = x.transpose(0, 1)\n",
    "         seq_len, batch_size, _ = x.size()\n",
    "         \n",
    "         if state is not None:\n",
    "             state = torch.stack(list(state))\n",
    "             assert state.ndim == 4\n",
    "             num_hidden, state_num_layers, state_batch_size, state_input_size = state.size()\n",
    "             assert num_hidden == 4\n",
    "             assert state_num_layers == self.num_layers\n",
    "             assert state_batch_size == batch_size\n",
    "             assert state_input_size == self.input_size\n",
    "             state = state.transpose(0, 1)\n",
    "         else:\n",
    "             state = torch.zeros(self.num_layers, 4, batch_size, self.hidden_size)\n",
    " \n",
    "         output = []\n",
    "         for t in range(seq_len):\n",
    "             x_t = x[t]\n",
    "             for layer in range(self.num_layers):\n",
    "                 x_t, state_tuple = self.layers[layer](x_t, tuple(state[layer].clone()))\n",
    "                 state[layer] = torch.stack(list(state_tuple))\n",
    "             output.append(x_t)\n",
    "         \n",
    "         output = torch.stack(output)\n",
    "         if self.batch_first:\n",
    "             output = output.transpose(0, 1)\n",
    "         state = tuple(state.transpose(0, 1))\n",
    "         return output, state\n",
    " \n",
    "class mLSTMBlock(nn.Module):\n",
    "     def __init__(self, input_size, hidden_size, num_heads, proj_factor=2):\n",
    "         super(mLSTMBlock, self).__init__()\n",
    "         self.input_size = input_size\n",
    "         self.hidden_size = hidden_size\n",
    "         self.num_heads = num_heads\n",
    "         self.head_size = hidden_size // num_heads\n",
    "         self.proj_factor = proj_factor\n",
    " \n",
    "         assert hidden_size % num_heads == 0\n",
    "         assert proj_factor > 0\n",
    "\n",
    "         self.layer_norm = nn.LayerNorm(input_size)\n",
    "         self.up_proj_left = nn.Linear(input_size, int(input_size * proj_factor))\n",
    "         self.up_proj_right = nn.Linear(input_size, hidden_size)\n",
    "         self.down_proj = nn.Linear(hidden_size, input_size)\n",
    " \n",
    "         self.causal_conv = CausalConv1D(1, 1, 4)\n",
    "         self.skip_connection = nn.Linear(int(input_size * proj_factor), hidden_size)\n",
    " \n",
    "         self.Wq = BlockDiagonal(int(input_size * proj_factor), hidden_size, num_heads)\n",
    "         self.Wk = BlockDiagonal(int(input_size * proj_factor), hidden_size, num_heads)\n",
    "         self.Wv = BlockDiagonal(int(input_size * proj_factor), hidden_size, num_heads)\n",
    "         self.Wi = nn.Linear(int(input_size * proj_factor), hidden_size)\n",
    "         self.Wf = nn.Linear(int(input_size * proj_factor), hidden_size)\n",
    "         self.Wo = nn.Linear(int(input_size * proj_factor), hidden_size)\n",
    " \n",
    "         self.group_norm = nn.GroupNorm(num_heads, hidden_size)\n",
    " \n",
    "     def forward(self, x, prev_state):\n",
    "         h_prev, c_prev, n_prev, m_prev = prev_state\n",
    "         assert x.size(-1) == self.input_size\n",
    "         x_norm = self.layer_norm(x)\n",
    "         x_up_left = self.up_proj_left(x_norm)\n",
    "         x_up_right = self.up_proj_right(x_norm)\n",
    " \n",
    "         x_conv = F.silu(self.causal_conv(x_up_left.unsqueeze(1)).squeeze(1))\n",
    "         x_skip = self.skip_connection(x_conv)\n",
    " \n",
    "         q = self.Wq(x_conv)\n",
    "         k = self.Wk(x_conv) / (self.head_size ** 0.5)\n",
    "         v = self.Wv(x_up_left)\n",
    " \n",
    "         i_tilde = self.Wi(x_conv)\n",
    "         f_tilde = self.Wf(x_conv)\n",
    "         o = torch.sigmoid(self.Wo(x_up_left))\n",
    " \n",
    "         m_t = torch.max(f_tilde + m_prev, i_tilde)\n",
    "         i = torch.exp(i_tilde - m_t)\n",
    "         f = torch.exp(f_tilde + m_prev - m_t)\n",
    " \n",
    "         c_t = f * c_prev + i * (v * k) # v @ k.T\n",
    "         n_t = f * n_prev + i * k\n",
    "         h_t = o * (c_t * q) / torch.max(torch.abs(n_t.T @ q), 1)[0] # o * (c @ q) / max{|n.T @ q|, 1}\n",
    " \n",
    "         output = h_t\n",
    "         output_norm = self.group_norm(output)\n",
    "         output = output_norm + x_skip\n",
    "         output = output * F.silu(x_up_right)\n",
    "         output = self.down_proj(output)\n",
    "         final_output = output + x\n",
    " \n",
    "         return final_output, (h_t, c_t, n_t, m_t)\n",
    "     \n",
    "class mLSTM(nn.Module):\n",
    "     # TODO: Add bias, dropout, bidirectional\n",
    "     def __init__(self, input_size, hidden_size, num_heads, num_layers=1, batch_first=False, proj_factor=2):\n",
    "         super(mLSTM, self).__init__()\n",
    "         self.input_size = input_size\n",
    "         self.hidden_size = hidden_size\n",
    "         self.num_heads = num_heads\n",
    "         self.num_layers = num_layers\n",
    "         self.batch_first = batch_first\n",
    "         self.proj_factor_slstm = proj_factor\n",
    " \n",
    "         self.layers = nn.ModuleList([mLSTMBlock(input_size, hidden_size, num_heads, proj_factor) for _ in range(num_layers)])\n",
    " \n",
    "     def forward(self, x, state=None):\n",
    "         assert x.ndim == 3\n",
    "         if self.batch_first: x = x.transpose(0, 1)\n",
    "         seq_len, batch_size, _ = x.size()\n",
    "         \n",
    "         if state is not None:\n",
    "             state = torch.stack(list(state))\n",
    "             assert state.ndim == 4\n",
    "             num_hidden, state_num_layers, state_batch_size, state_input_size = state.size()\n",
    "             assert num_hidden == 4\n",
    "             assert state_num_layers == self.num_layers\n",
    "             assert state_batch_size == batch_size\n",
    "             assert state_input_size == self.input_size\n",
    "             state = state.transpose(0, 1)\n",
    "         else:\n",
    "             state = torch.zeros(self.num_layers, 4, batch_size, self.hidden_size)\n",
    " \n",
    "         output = []\n",
    "         for t in range(seq_len):\n",
    "             x_t = x[t]\n",
    "             for layer in range(self.num_layers):\n",
    "                 x_t, state_tuple = self.layers[layer](x_t, tuple(state[layer].clone()))\n",
    "                 state[layer] = torch.stack(list(state_tuple))\n",
    "             output.append(x_t)\n",
    "         \n",
    "         output = torch.stack(output)\n",
    "         if self.batch_first:\n",
    "             output = output.transpose(0, 1)\n",
    "         state = tuple(state.transpose(0, 1))\n",
    "         return output, state\n",
    " \n",
    "class xLSTM(nn.Module):\n",
    "     # TODO: Add bias, dropout, bidirectional\n",
    "     def __init__(self, input_size, hidden_size, num_heads, layers, batch_first=False, proj_factor_slstm=4/3, proj_factor_mlstm=2):\n",
    "         super(xLSTM, self).__init__()\n",
    "         self.input_size = input_size\n",
    "         self.hidden_size = hidden_size\n",
    "         self.num_heads = num_heads\n",
    "         self.layers = layers\n",
    "         self.num_layers = len(layers)\n",
    "         self.batch_first = batch_first\n",
    "         self.proj_factor_slstm = proj_factor_slstm\n",
    "         self.proj_factor_mlstm = proj_factor_mlstm\n",
    " \n",
    "         self.layers = nn.ModuleList()\n",
    "         for layer_type in layers:\n",
    "             if layer_type == 's':\n",
    "                 layer = sLSTMBlock(input_size, hidden_size, num_heads, proj_factor_slstm)\n",
    "             elif layer_type == 'm':\n",
    "                 layer = mLSTMBlock(input_size, hidden_size, num_heads, proj_factor_mlstm)\n",
    "             else:\n",
    "                 raise ValueError(f\"Invalid layer type: {layer_type}. Choose 's' for sLSTM or 'm' for mLSTM.\")\n",
    "             self.layers.append(layer)\n",
    " \n",
    "     def forward(self, x, state=None):\n",
    "         assert x.ndim == 3\n",
    "         if self.batch_first: x = x.transpose(0, 1)\n",
    "         seq_len, batch_size, _ = x.size()\n",
    "         \n",
    "         if state is not None:\n",
    "             state = torch.stack(list(state))\n",
    "             assert state.ndim == 4\n",
    "             num_hidden, state_num_layers, state_batch_size, state_input_size = state.size()\n",
    "             assert num_hidden == 4\n",
    "             assert state_num_layers == self.num_layers\n",
    "             assert state_batch_size == batch_size\n",
    "             assert state_input_size == self.input_size\n",
    "             state = state.transpose(0, 1)\n",
    "         else:\n",
    "             state = torch.zeros(self.num_layers, 4, batch_size, self.hidden_size)\n",
    " \n",
    "         output = []\n",
    "         for t in range(seq_len):\n",
    "             x_t = x[t]\n",
    "             for layer in range(self.num_layers):\n",
    "                 x_t, state_tuple = self.layers[layer](x_t, tuple(state[layer].clone()))\n",
    "                 state[layer] = torch.stack(list(state_tuple))\n",
    "             output.append(x_t)\n",
    "         \n",
    "         output = torch.stack(output)\n",
    "         if self.batch_first:\n",
    "             output = output.transpose(0, 1)\n",
    "\n",
    "         state = tuple(state.transpose(0, 1))\n",
    "         \n",
    "         return output, state\n"
   ]
  },
  {
   "cell_type": "code",
   "execution_count": 31,
   "metadata": {},
   "outputs": [],
   "source": [
    "class CreditsxLSTM(nn.Module):\n",
    "    def __init__(self, features, embedding_projections, hidden_size=258, num_heads=6, layers=['s', 'm', 's'], proj_factor_slstm=4/3, proj_factor_mlstm=2):\n",
    "        super(CreditsxLSTM, self).__init__()\n",
    "        self.embedding_projections = nn.ModuleList([self._create_embedding_projection(*embedding_projections[feature]) for feature in features])\n",
    "        self.input_size = sum([embedding_projections[feature][1] for feature in features])\n",
    "        self.xlstm = xLSTM(input_size=self.input_size, hidden_size=hidden_size, num_heads=num_heads, layers=layers, proj_factor_slstm=proj_factor_slstm, proj_factor_mlstm=proj_factor_mlstm, batch_first=True)\n",
    "        self.hidden_size = hidden_size\n",
    "        self.top_classifier = nn.Linear(hidden_size, 32)\n",
    "        self.intermediate_activation = nn.ReLU()\n",
    "        self.head = nn.Linear(32, 1)\n",
    "\n",
    "    def forward(self, features):\n",
    "        device = next(self.parameters()).device  # Get the device of the model's parameters\n",
    "        batch_size = features[0].shape[0]\n",
    "        \n",
    "        # Ensure features are on the same device as the model\n",
    "        embeddings = [embedding(features[i].to(device)) for i, embedding in enumerate(self.embedding_projections)]\n",
    "        concated_embeddings = torch.cat(embeddings, dim=-1)\n",
    "\n",
    "        output, last_hidden = self.xlstm(concated_embeddings)\n",
    "        last_hidden_mean = torch.mean(last_hidden[-1], dim=0, keepdim=True)\n",
    "\n",
    "        last_hidden_mean = torch.reshape(last_hidden_mean.permute(1, 2, 0), shape=(batch_size, self.hidden_size))\n",
    "        \n",
    "        classification_hidden = self.top_classifier(last_hidden_mean)\n",
    "        activation = self.intermediate_activation(classification_hidden)\n",
    "        raw_output = self.head(activation)\n",
    "        \n",
    "        return raw_output\n",
    "\n",
    "    @classmethod\n",
    "    def _create_embedding_projection(cls, cardinality, embed_size, add_missing=True, padding_idx=0):\n",
    "        add_missing = 1 if add_missing else 0\n",
    "        return nn.Embedding(num_embeddings=cardinality + add_missing, embedding_dim=embed_size, padding_idx=padding_idx)\n"
   ]
  },
  {
   "cell_type": "code",
   "execution_count": 32,
   "metadata": {},
   "outputs": [],
   "source": [
    "import torch.optim as optim\n",
    "\n",
    "learning_rate = 0.001\n",
    "\n",
    "model = CreditsxLSTM(features, embedding_projections)\n",
    "\n",
    "optimizer = optim.Adam(model.parameters(), lr=learning_rate)\n",
    "\n",
    "num_epochs = 10\n",
    "train_batch_size = 128\n",
    "val_batch_size = 128"
   ]
  },
  {
   "cell_type": "code",
   "execution_count": 33,
   "metadata": {},
   "outputs": [],
   "source": [
    "from tqdm import tqdm_notebook\n",
    "\n",
    "def train_epoch(model: torch.nn.Module, optimizer: torch.optim.Optimizer, dataset_train: List[str],\n",
    "                batch_size: int = 64, shuffle: bool = True, print_loss_every_n_batches: int = 500,\n",
    "                device: torch.device = None):\n",
    "\n",
    "    model.train()\n",
    "    loss_function = nn.BCEWithLogitsLoss(reduction=\"none\")\n",
    "    losses = torch.Tensor().to(device)\n",
    "    samples_counter = 0\n",
    "    train_generator = batches_generator(dataset_train, batch_size=batch_size, shuffle=shuffle, device=device, is_train=True, output_format=\"torch\")\n",
    "\n",
    "    for num_batch, batch in tqdm_notebook(enumerate(train_generator, start=1), desc=\"Training\"):\n",
    "        # Ensure the model, features, and labels are on the same device\n",
    "        features = [feature.to(device) for feature in batch[\"features\"]]\n",
    "        labels = batch[\"label\"].float().to(device)\n",
    "        \n",
    "        # Forward pass\n",
    "        output = torch.flatten(model(features))\n",
    "\n",
    "        # Compute loss\n",
    "        batch_loss = loss_function(output.to(device), labels.to(device))\n",
    "        batch_loss.mean().backward()\n",
    "        optimizer.step()\n",
    "        optimizer.zero_grad()\n",
    "\n",
    "        samples_counter += batch_loss.size(0)\n",
    "\n",
    "        losses = torch.cat([losses, batch_loss], dim=0)\n",
    "        if num_batch % print_loss_every_n_batches == 0:\n",
    "            print(f\"Batches {num_batch - print_loss_every_n_batches + 1} - {num_batch} loss:\"\n",
    "                  f\"{losses[-samples_counter:].mean().item()}\", end=\"\\r\")\n",
    "            samples_counter = 0\n",
    "        if num_batch % 10 == 0:\n",
    "            print(\"Batch: \", num_batch)\n",
    "\n",
    "        if num_batch == 780:\n",
    "            break\n",
    "\n",
    "\n"
   ]
  },
  {
   "cell_type": "code",
   "execution_count": 34,
   "metadata": {},
   "outputs": [
    {
     "data": {
      "text/plain": [
       "device(type='cuda')"
      ]
     },
     "execution_count": 34,
     "metadata": {},
     "output_type": "execute_result"
    }
   ],
   "source": [
    "device"
   ]
  },
  {
   "cell_type": "code",
   "execution_count": 35,
   "metadata": {},
   "outputs": [
    {
     "name": "stdout",
     "output_type": "stream",
     "text": [
      "Starting epoch 1\n"
     ]
    },
    {
     "name": "stderr",
     "output_type": "stream",
     "text": [
      "/tmp/ipykernel_2480959/909155273.py:36: TqdmDeprecationWarning: This function will be removed in tqdm==5.0.0\n",
      "Please use `tqdm.notebook.tqdm` instead of `tqdm.tqdm_notebook`\n",
      "  for num_batch, batch in tqdm_notebook(enumerate(train_generator, start=1), desc=\"Training\"):\n"
     ]
    },
    {
     "data": {
      "application/vnd.jupyter.widget-view+json": {
       "model_id": "673e216a155147919a53a17bf9f612e1",
       "version_major": 2,
       "version_minor": 0
      },
      "text/plain": [
       "Training: 0it [00:00, ?it/s]"
      ]
     },
     "metadata": {},
     "output_type": "display_data"
    },
    {
     "name": "stdout",
     "output_type": "stream",
     "text": [
      "Batch:  10\n",
      "Batch:  20\n",
      "Batch:  30\n",
      "Batch:  40\n",
      "Batch:  50\n",
      "Batch:  60\n",
      "Batch:  70\n",
      "Batch:  80\n",
      "Batch:  90\n",
      "Batch:  100\n",
      "Batch:  110\n",
      "Batch:  120\n",
      "Batch:  130\n",
      "Batch:  140\n",
      "Batch:  150\n",
      "Batch:  160\n",
      "Batch:  170\n",
      "Batch:  180\n",
      "Batch:  190\n",
      "Batch:  200\n",
      "Batch:  210\n",
      "Batch:  220\n",
      "Batch:  230\n",
      "Batch:  240\n",
      "Batch:  250\n",
      "Batch:  260\n",
      "Batch:  270\n",
      "Batch:  280\n",
      "Batch:  290\n",
      "Batch:  300\n",
      "Batch:  310\n",
      "Batch:  320\n",
      "Batch:  330\n",
      "Batch:  340\n",
      "Batch:  350\n",
      "Batch:  360\n",
      "Batch:  370\n",
      "Batch:  380\n",
      "Batch:  390\n",
      "Batch:  400\n",
      "Batch:  410\n",
      "Batch:  420\n",
      "Batch:  430\n",
      "Batch:  440\n",
      "Batch:  450\n",
      "Batch:  460\n",
      "Batch:  470\n",
      "Batch:  480\n",
      "Batch:  490\n",
      "Batch:  500 500 loss:0.1266031712293625\n",
      "Batch:  510\n",
      "Batch:  520\n",
      "Batch:  530\n",
      "Batch:  540\n",
      "Batch:  550\n",
      "Batch:  560\n",
      "Batch:  570\n",
      "Batch:  580\n",
      "Batch:  590\n",
      "Batch:  600\n",
      "Batch:  610\n",
      "Batch:  620\n",
      "Batch:  630\n",
      "Batch:  640\n",
      "Batch:  650\n",
      "Batch:  660\n",
      "Batch:  670\n",
      "Batch:  680\n",
      "Batch:  690\n",
      "Batch:  700\n",
      "Batch:  710\n",
      "Batch:  720\n",
      "Batch:  730\n",
      "Batch:  740\n",
      "Batch:  750\n",
      "Batch:  760\n",
      "Batch:  770\n",
      "Batch:  780\n",
      "Next step\n"
     ]
    },
    {
     "data": {
      "application/vnd.jupyter.widget-view+json": {
       "model_id": "5b92e45e1bf74f8690aaf9692f1a7135",
       "version_major": 2,
       "version_minor": 0
      },
      "text/plain": [
       "Evaluating model: 0it [00:00, ?it/s]"
      ]
     },
     "metadata": {},
     "output_type": "display_data"
    },
    {
     "name": "stdout",
     "output_type": "stream",
     "text": [
      "Epoch 1 completed. Validation ROC AUC: 0.6633\n",
      "Starting epoch 2\n"
     ]
    },
    {
     "name": "stderr",
     "output_type": "stream",
     "text": [
      "/tmp/ipykernel_2480959/909155273.py:36: TqdmDeprecationWarning: This function will be removed in tqdm==5.0.0\n",
      "Please use `tqdm.notebook.tqdm` instead of `tqdm.tqdm_notebook`\n",
      "  for num_batch, batch in tqdm_notebook(enumerate(train_generator, start=1), desc=\"Training\"):\n"
     ]
    },
    {
     "data": {
      "application/vnd.jupyter.widget-view+json": {
       "model_id": "3ba142be62084713b009c3593e5d0573",
       "version_major": 2,
       "version_minor": 0
      },
      "text/plain": [
       "Training: 0it [00:00, ?it/s]"
      ]
     },
     "metadata": {},
     "output_type": "display_data"
    },
    {
     "name": "stdout",
     "output_type": "stream",
     "text": [
      "Batch:  10\n",
      "Batch:  20\n",
      "Batch:  30\n",
      "Batch:  40\n",
      "Batch:  50\n",
      "Batch:  60\n",
      "Batch:  70\n",
      "Batch:  80\n",
      "Batch:  90\n",
      "Batch:  100\n",
      "Batch:  110\n",
      "Batch:  120\n",
      "Batch:  130\n",
      "Batch:  140\n",
      "Batch:  150\n",
      "Batch:  160\n",
      "Batch:  170\n",
      "Batch:  180\n",
      "Batch:  190\n",
      "Batch:  200\n",
      "Batch:  210\n",
      "Batch:  220\n",
      "Batch:  230\n",
      "Batch:  240\n",
      "Batch:  250\n",
      "Batch:  260\n",
      "Batch:  270\n",
      "Batch:  280\n",
      "Batch:  290\n",
      "Batch:  300\n",
      "Batch:  310\n",
      "Batch:  320\n",
      "Batch:  330\n",
      "Batch:  340\n",
      "Batch:  350\n",
      "Batch:  360\n",
      "Batch:  370\n",
      "Batch:  380\n",
      "Batch:  390\n",
      "Batch:  400\n",
      "Batch:  410\n",
      "Batch:  420\n",
      "Batch:  430\n",
      "Batch:  440\n",
      "Batch:  450\n",
      "Batch:  460\n",
      "Batch:  470\n",
      "Batch:  480\n",
      "Batch:  490\n",
      "Batch:  500 500 loss:0.18795642256736755\n",
      "Batch:  510\n",
      "Batch:  520\n",
      "Batch:  530\n",
      "Batch:  540\n",
      "Batch:  550\n",
      "Batch:  560\n",
      "Batch:  570\n",
      "Batch:  580\n",
      "Batch:  590\n",
      "Batch:  600\n",
      "Batch:  610\n",
      "Batch:  620\n",
      "Batch:  630\n",
      "Batch:  640\n",
      "Batch:  650\n",
      "Batch:  660\n",
      "Batch:  670\n",
      "Batch:  680\n",
      "Batch:  690\n",
      "Batch:  700\n",
      "Batch:  710\n",
      "Batch:  720\n",
      "Batch:  730\n",
      "Batch:  740\n",
      "Batch:  750\n",
      "Batch:  760\n",
      "Batch:  770\n",
      "Batch:  780\n",
      "Next step\n"
     ]
    },
    {
     "data": {
      "application/vnd.jupyter.widget-view+json": {
       "model_id": "84ad1658dd264c0386e832dbe1737c37",
       "version_major": 2,
       "version_minor": 0
      },
      "text/plain": [
       "Evaluating model: 0it [00:00, ?it/s]"
      ]
     },
     "metadata": {},
     "output_type": "display_data"
    },
    {
     "name": "stdout",
     "output_type": "stream",
     "text": [
      "Epoch 2 completed. Validation ROC AUC: 0.7291\n",
      "Starting epoch 3\n"
     ]
    },
    {
     "name": "stderr",
     "output_type": "stream",
     "text": [
      "/tmp/ipykernel_2480959/909155273.py:36: TqdmDeprecationWarning: This function will be removed in tqdm==5.0.0\n",
      "Please use `tqdm.notebook.tqdm` instead of `tqdm.tqdm_notebook`\n",
      "  for num_batch, batch in tqdm_notebook(enumerate(train_generator, start=1), desc=\"Training\"):\n"
     ]
    },
    {
     "data": {
      "application/vnd.jupyter.widget-view+json": {
       "model_id": "81642fb6b74742738c303125f7ad81c0",
       "version_major": 2,
       "version_minor": 0
      },
      "text/plain": [
       "Training: 0it [00:00, ?it/s]"
      ]
     },
     "metadata": {},
     "output_type": "display_data"
    },
    {
     "name": "stdout",
     "output_type": "stream",
     "text": [
      "Batch:  10\n",
      "Batch:  20\n",
      "Batch:  30\n",
      "Batch:  40\n",
      "Batch:  50\n",
      "Batch:  60\n",
      "Batch:  70\n",
      "Batch:  80\n",
      "Batch:  90\n",
      "Batch:  100\n",
      "Batch:  110\n",
      "Batch:  120\n",
      "Batch:  130\n",
      "Batch:  140\n",
      "Batch:  150\n",
      "Batch:  160\n",
      "Batch:  170\n",
      "Batch:  180\n",
      "Batch:  190\n",
      "Batch:  200\n",
      "Batch:  210\n",
      "Batch:  220\n",
      "Batch:  230\n",
      "Batch:  240\n",
      "Batch:  250\n",
      "Batch:  260\n",
      "Batch:  270\n",
      "Batch:  280\n",
      "Batch:  290\n",
      "Batch:  300\n",
      "Batch:  310\n",
      "Batch:  320\n",
      "Batch:  330\n",
      "Batch:  340\n",
      "Batch:  350\n",
      "Batch:  360\n",
      "Batch:  370\n",
      "Batch:  380\n",
      "Batch:  390\n",
      "Batch:  400\n",
      "Batch:  410\n",
      "Batch:  420\n",
      "Batch:  430\n",
      "Batch:  440\n",
      "Batch:  450\n",
      "Batch:  460\n",
      "Batch:  470\n",
      "Batch:  480\n",
      "Batch:  490\n",
      "Batch:  500 500 loss:0.11287154257297516\n",
      "Batch:  510\n",
      "Batch:  520\n",
      "Batch:  530\n",
      "Batch:  540\n",
      "Batch:  550\n",
      "Batch:  560\n",
      "Batch:  570\n",
      "Batch:  580\n",
      "Batch:  590\n",
      "Batch:  600\n",
      "Batch:  610\n",
      "Batch:  620\n",
      "Batch:  630\n",
      "Batch:  640\n",
      "Batch:  650\n",
      "Batch:  660\n",
      "Batch:  670\n",
      "Batch:  680\n",
      "Batch:  690\n",
      "Batch:  700\n",
      "Batch:  710\n",
      "Batch:  720\n",
      "Batch:  730\n",
      "Batch:  740\n",
      "Batch:  750\n",
      "Batch:  760\n",
      "Batch:  770\n",
      "Batch:  780\n",
      "Next step\n"
     ]
    },
    {
     "data": {
      "application/vnd.jupyter.widget-view+json": {
       "model_id": "95fe92915dee4c879795910dcc28b579",
       "version_major": 2,
       "version_minor": 0
      },
      "text/plain": [
       "Evaluating model: 0it [00:00, ?it/s]"
      ]
     },
     "metadata": {},
     "output_type": "display_data"
    },
    {
     "name": "stdout",
     "output_type": "stream",
     "text": [
      "Epoch 3 completed. Validation ROC AUC: 0.7223\n",
      "Starting epoch 4\n"
     ]
    },
    {
     "name": "stderr",
     "output_type": "stream",
     "text": [
      "/tmp/ipykernel_2480959/909155273.py:36: TqdmDeprecationWarning: This function will be removed in tqdm==5.0.0\n",
      "Please use `tqdm.notebook.tqdm` instead of `tqdm.tqdm_notebook`\n",
      "  for num_batch, batch in tqdm_notebook(enumerate(train_generator, start=1), desc=\"Training\"):\n"
     ]
    },
    {
     "data": {
      "application/vnd.jupyter.widget-view+json": {
       "model_id": "89cd4292a8e2474eb9ea01162dcd5507",
       "version_major": 2,
       "version_minor": 0
      },
      "text/plain": [
       "Training: 0it [00:00, ?it/s]"
      ]
     },
     "metadata": {},
     "output_type": "display_data"
    },
    {
     "name": "stdout",
     "output_type": "stream",
     "text": [
      "Batch:  10\n",
      "Batch:  20\n",
      "Batch:  30\n",
      "Batch:  40\n",
      "Batch:  50\n",
      "Batch:  60\n",
      "Batch:  70\n",
      "Batch:  80\n",
      "Batch:  90\n",
      "Batch:  100\n",
      "Batch:  110\n",
      "Batch:  120\n",
      "Batch:  130\n",
      "Batch:  140\n",
      "Batch:  150\n",
      "Batch:  160\n",
      "Batch:  170\n",
      "Batch:  180\n",
      "Batch:  190\n",
      "Batch:  200\n",
      "Batch:  210\n",
      "Batch:  220\n",
      "Batch:  230\n",
      "Batch:  240\n",
      "Batch:  250\n",
      "Batch:  260\n",
      "Batch:  270\n",
      "Batch:  280\n",
      "Batch:  290\n",
      "Batch:  300\n",
      "Batch:  310\n",
      "Batch:  320\n",
      "Batch:  330\n",
      "Batch:  340\n",
      "Batch:  350\n",
      "Batch:  360\n",
      "Batch:  370\n",
      "Batch:  380\n",
      "Batch:  390\n",
      "Batch:  400\n",
      "Batch:  410\n",
      "Batch:  420\n",
      "Batch:  430\n",
      "Batch:  440\n",
      "Batch:  450\n",
      "Batch:  460\n",
      "Batch:  470\n",
      "Batch:  480\n",
      "Batch:  490\n",
      "Batch:  500 500 loss:0.12739212810993195\n",
      "Batch:  510\n",
      "Batch:  520\n",
      "Batch:  530\n",
      "Batch:  540\n",
      "Batch:  550\n",
      "Batch:  560\n",
      "Batch:  570\n",
      "Batch:  580\n",
      "Batch:  590\n",
      "Batch:  600\n",
      "Batch:  610\n",
      "Batch:  620\n",
      "Batch:  630\n",
      "Batch:  640\n",
      "Batch:  650\n",
      "Batch:  660\n",
      "Batch:  670\n",
      "Batch:  680\n",
      "Batch:  690\n",
      "Batch:  700\n",
      "Batch:  710\n",
      "Batch:  720\n",
      "Batch:  730\n",
      "Batch:  740\n",
      "Batch:  750\n",
      "Batch:  760\n",
      "Batch:  770\n",
      "Batch:  780\n",
      "Next step\n"
     ]
    },
    {
     "data": {
      "application/vnd.jupyter.widget-view+json": {
       "model_id": "850a52017892493eb4602a12caf40653",
       "version_major": 2,
       "version_minor": 0
      },
      "text/plain": [
       "Evaluating model: 0it [00:00, ?it/s]"
      ]
     },
     "metadata": {},
     "output_type": "display_data"
    },
    {
     "name": "stdout",
     "output_type": "stream",
     "text": [
      "Epoch 4 completed. Validation ROC AUC: 0.7499\n",
      "Starting epoch 5\n"
     ]
    },
    {
     "name": "stderr",
     "output_type": "stream",
     "text": [
      "/tmp/ipykernel_2480959/909155273.py:36: TqdmDeprecationWarning: This function will be removed in tqdm==5.0.0\n",
      "Please use `tqdm.notebook.tqdm` instead of `tqdm.tqdm_notebook`\n",
      "  for num_batch, batch in tqdm_notebook(enumerate(train_generator, start=1), desc=\"Training\"):\n"
     ]
    },
    {
     "data": {
      "application/vnd.jupyter.widget-view+json": {
       "model_id": "5131f20df4354aa4aa1322c278419b0c",
       "version_major": 2,
       "version_minor": 0
      },
      "text/plain": [
       "Training: 0it [00:00, ?it/s]"
      ]
     },
     "metadata": {},
     "output_type": "display_data"
    },
    {
     "name": "stdout",
     "output_type": "stream",
     "text": [
      "Batch:  10\n",
      "Batch:  20\n",
      "Batch:  30\n",
      "Batch:  40\n",
      "Batch:  50\n",
      "Batch:  60\n",
      "Batch:  70\n",
      "Batch:  80\n",
      "Batch:  90\n",
      "Batch:  100\n",
      "Batch:  110\n",
      "Batch:  120\n",
      "Batch:  130\n",
      "Batch:  140\n",
      "Batch:  150\n",
      "Batch:  160\n",
      "Batch:  170\n",
      "Batch:  180\n",
      "Batch:  190\n",
      "Batch:  200\n",
      "Batch:  210\n",
      "Batch:  220\n",
      "Batch:  230\n",
      "Batch:  240\n",
      "Batch:  250\n",
      "Batch:  260\n",
      "Batch:  270\n",
      "Batch:  280\n",
      "Batch:  290\n",
      "Batch:  300\n",
      "Batch:  310\n",
      "Batch:  320\n",
      "Batch:  330\n",
      "Batch:  340\n",
      "Batch:  350\n",
      "Batch:  360\n",
      "Batch:  370\n",
      "Batch:  380\n",
      "Batch:  390\n",
      "Batch:  400\n",
      "Batch:  410\n",
      "Batch:  420\n",
      "Batch:  430\n",
      "Batch:  440\n",
      "Batch:  450\n",
      "Batch:  460\n",
      "Batch:  470\n",
      "Batch:  480\n",
      "Batch:  490\n",
      "Batch:  500 500 loss:0.14468777179718018\n",
      "Batch:  510\n",
      "Batch:  520\n",
      "Batch:  530\n",
      "Batch:  540\n",
      "Batch:  550\n",
      "Batch:  560\n",
      "Batch:  570\n",
      "Batch:  580\n",
      "Batch:  590\n",
      "Batch:  600\n",
      "Batch:  610\n",
      "Batch:  620\n",
      "Batch:  630\n",
      "Batch:  640\n",
      "Batch:  650\n",
      "Batch:  660\n",
      "Batch:  670\n",
      "Batch:  680\n",
      "Batch:  690\n",
      "Batch:  700\n",
      "Batch:  710\n",
      "Batch:  720\n",
      "Batch:  730\n",
      "Batch:  740\n",
      "Batch:  750\n",
      "Batch:  760\n",
      "Batch:  770\n",
      "Batch:  780\n",
      "Next step\n"
     ]
    },
    {
     "data": {
      "application/vnd.jupyter.widget-view+json": {
       "model_id": "2e3ce3f0e2aa4584b2ad5ba4ae5cd8a2",
       "version_major": 2,
       "version_minor": 0
      },
      "text/plain": [
       "Evaluating model: 0it [00:00, ?it/s]"
      ]
     },
     "metadata": {},
     "output_type": "display_data"
    },
    {
     "name": "stdout",
     "output_type": "stream",
     "text": [
      "Epoch 5 completed. Validation ROC AUC: 0.7454\n",
      "Starting epoch 6\n"
     ]
    },
    {
     "name": "stderr",
     "output_type": "stream",
     "text": [
      "/tmp/ipykernel_2480959/909155273.py:36: TqdmDeprecationWarning: This function will be removed in tqdm==5.0.0\n",
      "Please use `tqdm.notebook.tqdm` instead of `tqdm.tqdm_notebook`\n",
      "  for num_batch, batch in tqdm_notebook(enumerate(train_generator, start=1), desc=\"Training\"):\n"
     ]
    },
    {
     "data": {
      "application/vnd.jupyter.widget-view+json": {
       "model_id": "f5870b6250f24e78a8449b805031c1f7",
       "version_major": 2,
       "version_minor": 0
      },
      "text/plain": [
       "Training: 0it [00:00, ?it/s]"
      ]
     },
     "metadata": {},
     "output_type": "display_data"
    },
    {
     "name": "stdout",
     "output_type": "stream",
     "text": [
      "Batch:  10\n",
      "Batch:  20\n",
      "Batch:  30\n",
      "Batch:  40\n",
      "Batch:  50\n",
      "Batch:  60\n",
      "Batch:  70\n",
      "Batch:  80\n",
      "Batch:  90\n",
      "Epoch 6 completed. Validation ROC AUC: 0.7364\n",
      "Starting epoch 7\n"
     ]
    },
    {
     "name": "stderr",
     "output_type": "stream",
     "text": [
      "/tmp/ipykernel_2480959/909155273.py:36: TqdmDeprecationWarning: This function will be removed in tqdm==5.0.0\n",
      "Please use `tqdm.notebook.tqdm` instead of `tqdm.tqdm_notebook`\n",
      "  for num_batch, batch in tqdm_notebook(enumerate(train_generator, start=1), desc=\"Training\"):\n"
     ]
    },
    {
     "data": {
      "application/vnd.jupyter.widget-view+json": {
       "model_id": "e0a0a2a6afe84d30a8519da892ad5a8e",
       "version_major": 2,
       "version_minor": 0
      },
      "text/plain": [
       "Training: 0it [00:00, ?it/s]"
      ]
     },
     "metadata": {},
     "output_type": "display_data"
    },
    {
     "name": "stdout",
     "output_type": "stream",
     "text": [
      "Batch:  10\n",
      "Batch:  20\n",
      "Batch:  30\n",
      "Batch:  40\n",
      "Batch:  50\n",
      "Batch:  60\n",
      "Batch:  70\n",
      "Batch:  80\n",
      "Batch:  90\n",
      "Batch:  100\n",
      "Batch:  110\n",
      "Batch:  120\n",
      "Batch:  130\n",
      "Batch:  140\n",
      "Batch:  150\n",
      "Batch:  160\n",
      "Batch:  170\n",
      "Batch:  180\n",
      "Batch:  190\n",
      "Batch:  200\n",
      "Batch:  210\n",
      "Batch:  220\n",
      "Batch:  230\n",
      "Batch:  240\n",
      "Batch:  250\n",
      "Batch:  260\n",
      "Batch:  270\n",
      "Batch:  280\n",
      "Batch:  290\n",
      "Batch:  300\n",
      "Batch:  310\n",
      "Batch:  320\n",
      "Batch:  330\n",
      "Batch:  340\n",
      "Batch:  350\n",
      "Batch:  360\n",
      "Batch:  370\n",
      "Batch:  380\n",
      "Batch:  390\n",
      "Batch:  400\n",
      "Batch:  410\n",
      "Batch:  420\n",
      "Batch:  430\n",
      "Batch:  440\n",
      "Batch:  450\n",
      "Batch:  460\n",
      "Batch:  470\n",
      "Batch:  480\n",
      "Batch:  490\n",
      "Batch:  500 500 loss:0.11975815892219543\n",
      "Batch:  510\n",
      "Batch:  520\n",
      "Batch:  530\n",
      "Batch:  540\n",
      "Batch:  550\n",
      "Batch:  560\n",
      "Batch:  570\n",
      "Batch:  580\n",
      "Batch:  590\n",
      "Batch:  600\n",
      "Batch:  610\n",
      "Batch:  620\n",
      "Batch:  630\n",
      "Batch:  640\n",
      "Batch:  650\n",
      "Batch:  660\n",
      "Batch:  670\n",
      "Batch:  680\n",
      "Batch:  690\n",
      "Batch:  700\n",
      "Batch:  710\n",
      "Batch:  720\n",
      "Batch:  730\n",
      "Batch:  740\n",
      "Batch:  750\n",
      "Batch:  760\n",
      "Batch:  770\n",
      "Batch:  780\n",
      "Next step\n"
     ]
    },
    {
     "data": {
      "application/vnd.jupyter.widget-view+json": {
       "model_id": "3eaa06f69a5e4c28b02c40a347d4a564",
       "version_major": 2,
       "version_minor": 0
      },
      "text/plain": [
       "Evaluating model: 0it [00:00, ?it/s]"
      ]
     },
     "metadata": {},
     "output_type": "display_data"
    },
    {
     "name": "stdout",
     "output_type": "stream",
     "text": [
      "Epoch 7 completed. Validation ROC AUC: 0.7603\n",
      "Starting epoch 8\n"
     ]
    },
    {
     "name": "stderr",
     "output_type": "stream",
     "text": [
      "/tmp/ipykernel_2480959/909155273.py:36: TqdmDeprecationWarning: This function will be removed in tqdm==5.0.0\n",
      "Please use `tqdm.notebook.tqdm` instead of `tqdm.tqdm_notebook`\n",
      "  for num_batch, batch in tqdm_notebook(enumerate(train_generator, start=1), desc=\"Training\"):\n"
     ]
    },
    {
     "data": {
      "application/vnd.jupyter.widget-view+json": {
       "model_id": "6ee5e7572a224b3fa476f1920f4d8c3f",
       "version_major": 2,
       "version_minor": 0
      },
      "text/plain": [
       "Training: 0it [00:00, ?it/s]"
      ]
     },
     "metadata": {},
     "output_type": "display_data"
    },
    {
     "name": "stdout",
     "output_type": "stream",
     "text": [
      "Batch:  10\n",
      "Batch:  20\n",
      "Batch:  30\n",
      "Batch:  40\n",
      "Batch:  50\n",
      "Batch:  60\n",
      "Batch:  70\n",
      "Batch:  80\n",
      "Batch:  90\n",
      "Batch:  100\n",
      "Batch:  110\n",
      "Batch:  120\n",
      "Batch:  130\n",
      "Batch:  140\n",
      "Batch:  150\n",
      "Batch:  160\n",
      "Batch:  170\n",
      "Batch:  180\n",
      "Batch:  190\n",
      "Batch:  200\n",
      "Batch:  210\n",
      "Batch:  220\n",
      "Batch:  230\n",
      "Batch:  240\n",
      "Batch:  250\n",
      "Batch:  260\n",
      "Batch:  270\n",
      "Batch:  280\n",
      "Batch:  750\n",
      "Batch:  760\n",
      "Batch:  770\n",
      "Batch:  780\n",
      "Next step\n"
     ]
    },
    {
     "data": {
      "application/vnd.jupyter.widget-view+json": {
       "model_id": "581e44d8733d4f24ae1815d2d38a49ff",
       "version_major": 2,
       "version_minor": 0
      },
      "text/plain": [
       "Evaluating model: 0it [00:00, ?it/s]"
      ]
     },
     "metadata": {},
     "output_type": "display_data"
    },
    {
     "name": "stdout",
     "output_type": "stream",
     "text": [
      "Epoch 8 completed. Validation ROC AUC: 0.7543\n",
      "Starting epoch 9\n"
     ]
    },
    {
     "name": "stderr",
     "output_type": "stream",
     "text": [
      "/tmp/ipykernel_2480959/909155273.py:36: TqdmDeprecationWarning: This function will be removed in tqdm==5.0.0\n",
      "Please use `tqdm.notebook.tqdm` instead of `tqdm.tqdm_notebook`\n",
      "  for num_batch, batch in tqdm_notebook(enumerate(train_generator, start=1), desc=\"Training\"):\n"
     ]
    },
    {
     "data": {
      "application/vnd.jupyter.widget-view+json": {
       "model_id": "f3f30189f3d94fb9b18eeea038e9b57b",
       "version_major": 2,
       "version_minor": 0
      },
      "text/plain": [
       "Training: 0it [00:00, ?it/s]"
      ]
     },
     "metadata": {},
     "output_type": "display_data"
    },
    {
     "name": "stdout",
     "output_type": "stream",
     "text": [
      "Batch:  10\n",
      "Batch:  20\n",
      "Batch:  30\n",
      "Batch:  40\n",
      "Batch:  50\n",
      "Batch:  60\n",
      "Batch:  70\n",
      "Batch:  80\n",
      "Batch:  90\n",
      "Batch:  100\n",
      "Batch:  110\n",
      "Batch:  120\n",
      "Batch:  130\n",
      "Batch:  140\n",
      "Batch:  150\n",
      "Batch:  160\n",
      "Batch:  170\n",
      "Batch:  180\n",
      "Batch:  190\n",
      "Batch:  200\n",
      "Batch:  210\n",
      "Batch:  220\n",
      "Batch:  230\n",
      "Batch:  240\n",
      "Batch:  250\n",
      "Batch:  260\n",
      "Batch:  270\n",
      "Batch:  280\n",
      "Batch:  290\n",
      "Batch:  300\n",
      "Batch:  310\n",
      "Batch:  320\n",
      "Batch:  330\n",
      "Batch:  340\n",
      "Batch:  350\n",
      "Batch:  360\n",
      "Batch:  370\n",
      "Batch:  380\n",
      "Batch:  390\n",
      "Batch:  400\n",
      "Batch:  410\n",
      "Batch:  420\n",
      "Batch:  430\n",
      "Batch:  440\n",
      "Batch:  450\n",
      "Batch:  460\n",
      "Batch:  470\n",
      "Batch:  480\n",
      "Batch:  490\n",
      "Batch:  500 500 loss:0.13187247514724731\n",
      "Batch:  510\n",
      "Batch:  520\n",
      "Batch:  530\n",
      "Batch:  540\n",
      "Batch:  550\n",
      "Batch:  560\n",
      "Batch:  570\n",
      "Batch:  580\n",
      "Batch:  590\n",
      "Batch:  600\n",
      "Batch:  610\n",
      "Batch:  620\n",
      "Batch:  630\n",
      "Batch:  640\n",
      "Batch:  650\n",
      "Batch:  660\n",
      "Batch:  670\n",
      "Batch:  680\n",
      "Batch:  690\n",
      "Batch:  700\n",
      "Batch:  710\n",
      "Batch:  720\n",
      "Batch:  730\n",
      "Batch:  740\n",
      "Batch:  750\n",
      "Batch:  760\n",
      "Batch:  770\n",
      "Batch:  780\n",
      "Next step\n"
     ]
    },
    {
     "data": {
      "application/vnd.jupyter.widget-view+json": {
       "model_id": "8d1bbc04fb8c430d87984c55973924b8",
       "version_major": 2,
       "version_minor": 0
      },
      "text/plain": [
       "Evaluating model: 0it [00:00, ?it/s]"
      ]
     },
     "metadata": {},
     "output_type": "display_data"
    },
    {
     "name": "stdout",
     "output_type": "stream",
     "text": [
      "Epoch 9 completed. Validation ROC AUC: 0.7444\n",
      "Starting epoch 10\n"
     ]
    },
    {
     "name": "stderr",
     "output_type": "stream",
     "text": [
      "/tmp/ipykernel_2480959/909155273.py:36: TqdmDeprecationWarning: This function will be removed in tqdm==5.0.0\n",
      "Please use `tqdm.notebook.tqdm` instead of `tqdm.tqdm_notebook`\n",
      "  for num_batch, batch in tqdm_notebook(enumerate(train_generator, start=1), desc=\"Training\"):\n"
     ]
    },
    {
     "data": {
      "application/vnd.jupyter.widget-view+json": {
       "model_id": "b7768571abe64a979314b3c9e8927a4e",
       "version_major": 2,
       "version_minor": 0
      },
      "text/plain": [
       "Training: 0it [00:00, ?it/s]"
      ]
     },
     "metadata": {},
     "output_type": "display_data"
    },
    {
     "name": "stdout",
     "output_type": "stream",
     "text": [
      "Batch:  10\n",
      "Batch:  20\n",
      "Batch:  30\n",
      "Batch:  40\n",
      "Batch:  50\n",
      "Batch:  60\n",
      "Batch:  70\n",
      "Batch:  80\n",
      "Batch:  90\n",
      "Batch:  100\n",
      "Batch:  110\n",
      "Batch:  120\n",
      "Batch:  130\n",
      "Batch:  140\n",
      "Batch:  150\n",
      "Batch:  160\n",
      "Batch:  170\n",
      "Batch:  180\n",
      "Batch:  190\n",
      "Batch:  200\n",
      "Batch:  210\n",
      "Batch:  220\n",
      "Batch:  230\n",
      "Batch:  240\n",
      "Batch:  250\n",
      "Batch:  260\n",
      "Batch:  270\n",
      "Batch:  280\n",
      "Batch:  290\n",
      "Batch:  300\n",
      "Batch:  310\n",
      "Batch:  320\n",
      "Batch:  330\n",
      "Batch:  340\n",
      "Batch:  350\n",
      "Batch:  360\n",
      "Batch:  370\n",
      "Batch:  380\n",
      "Batch:  390\n",
      "Batch:  400\n",
      "Batch:  410\n",
      "Batch:  420\n",
      "Batch:  430\n",
      "Batch:  440\n",
      "Batch:  450\n",
      "Batch:  460\n",
      "Batch:  470\n",
      "Batch:  480\n",
      "Batch:  490\n",
      "Batch:  500 500 loss:0.12298358976840973\n",
      "Batch:  510\n",
      "Batch:  520\n",
      "Batch:  530\n",
      "Batch:  540\n",
      "Batch:  550\n",
      "Batch:  560\n",
      "Batch:  570\n",
      "Batch:  580\n",
      "Batch:  590\n",
      "Batch:  600\n",
      "Batch:  610\n",
      "Batch:  620\n",
      "Batch:  630\n",
      "Batch:  640\n",
      "Batch:  650\n",
      "Batch:  660\n",
      "Batch:  670\n",
      "Batch:  680\n",
      "Batch:  690\n",
      "Batch:  700\n",
      "Batch:  710\n",
      "Batch:  720\n",
      "Batch:  730\n",
      "Batch:  740\n",
      "Batch:  750\n",
      "Batch:  760\n",
      "Batch:  770\n",
      "Batch:  780\n",
      "Next step\n"
     ]
    },
    {
     "data": {
      "application/vnd.jupyter.widget-view+json": {
       "model_id": "946104c7a63f4d18b2d9035417cd7a42",
       "version_major": 2,
       "version_minor": 0
      },
      "text/plain": [
       "Evaluating model: 0it [00:00, ?it/s]"
      ]
     },
     "metadata": {},
     "output_type": "display_data"
    },
    {
     "name": "stderr",
     "output_type": "stream",
     "text": [
      "IOPub message rate exceeded.\n",
      "The Jupyter server will temporarily stop sending output\n",
      "to the client in order to avoid crashing it.\n",
      "To change this limit, set the config variable\n",
      "`--ServerApp.iopub_msg_rate_limit`.\n",
      "\n",
      "Current values:\n",
      "ServerApp.iopub_msg_rate_limit=1000.0 (msgs/sec)\n",
      "ServerApp.rate_limit_window=3.0 (secs)\n",
      "\n"
     ]
    }
   ],
   "source": [
    "for epoch in range(num_epochs):\n",
    "    print(f\"Starting epoch {epoch+1}\")\n",
    "    train_epoch(model, optimizer, dataset_train, batch_size=train_batch_size, \n",
    "                shuffle=True, print_loss_every_n_batches=500, device=device)\n",
    "\n",
    "    print(\"Next step\")\n",
    "\n",
    "    \n",
    "    # Оценка модели на валидационных данных\n",
    "    val_roc_auc = eval_model(model, dataset_val, batch_size=val_batch_size, device=device)\n",
    "    \n",
    "    # Сохранение модели по результатам валидации\n",
    "    torch.save(model.state_dict(), f\"epoch_{epoch+1}_val_{val_roc_auc:.3f}.pt\")\n",
    "    print(f\"Epoch {epoch+1} completed. Validation ROC AUC: {val_roc_auc:.4f}\")\n",
    "    "
   ]
  },
  {
   "cell_type": "markdown",
   "metadata": {},
   "source": [
    "### 3. Training"
   ]
  },
  {
   "cell_type": "code",
   "execution_count": null,
   "metadata": {},
   "outputs": [],
   "source": [
    "!rm -r .../main_project/./checkpoints/\n",
    "!mkdir .../main_project/./checkpoints/\n",
    "\n",
    "!rm -r .../main_project/./checkpoints/pytorch_baseline\n",
    "!mkdir .../main_project/./checkpoints/pytorch_baseline"
   ]
  },
  {
   "cell_type": "markdown",
   "metadata": {},
   "source": [
    "* Для того, чтобы детектировать переобучение используем EarlyStopping."
   ]
  },
  {
   "cell_type": "code",
   "execution_count": null,
   "metadata": {},
   "outputs": [],
   "source": [
    "path_to_checkpoints = \"/trinity/home/team08/workspace/data/./checkpoints/pytorch_baseline/\"\n",
    "es = EarlyStopping(patience=3, mode=\"max\", verbose=True, save_path=os.path.join(path_to_checkpoints, \"best_checkpoint.pt\"), \n",
    "                   metric_name=\"ROC-AUC\", save_format=\"torch\")"
   ]
  },
  {
   "cell_type": "code",
   "execution_count": 10,
   "metadata": {},
   "outputs": [],
   "source": [
    "# %%time\n",
    "# for epoch in range(num_epochs):\n",
    "#     print(f\"Starting epoch {epoch+1}\")\n",
    "#     train_epoch(model, optimizer, dataset_train, batch_size=train_batch_size, \n",
    "#                 shuffle=True, print_loss_every_n_batches=500, device=device)\n",
    "    \n",
    "#     val_roc_auc = eval_model(model, dataset_val, batch_size=val_batch_size, device=device)\n",
    "#     es(val_roc_auc, model)\n",
    "    \n",
    "#     if es.early_stop:\n",
    "#         print(\"Early stopping reached. Stop training...\")\n",
    "#         break\n",
    "#     torch.save(model.state_dict(), os.path.join(path_to_checkpoints, f\"epoch_{epoch+1}_val_{val_roc_auc:.3f}.pt\"))\n",
    "    \n",
    "#     train_roc_auc = eval_model(model, dataset_train, batch_size=val_batch_size, device=device)\n",
    "#     print(f\"Epoch {epoch+1} completed. Train ROC AUC: {train_roc_auc}, val ROC AUC: {val_roc_auc}\")"
   ]
  },
  {
   "cell_type": "markdown",
   "metadata": {},
   "source": [
    "### 4. Submission"
   ]
  },
  {
   "cell_type": "markdown",
   "metadata": {},
   "source": [
    "* Подготовим посылку в проверяющую систему"
   ]
  },
  {
   "cell_type": "code",
   "execution_count": 2,
   "metadata": {},
   "outputs": [
    {
     "name": "stdout",
     "output_type": "stream",
     "text": [
      "The history saving thread hit an unexpected error (OperationalError('unable to open database file')).History will not be written to the database.\n"
     ]
    }
   ],
   "source": [
    "# path_to_checkpoints"
   ]
  },
  {
   "cell_type": "code",
   "execution_count": 3,
   "metadata": {},
   "outputs": [],
   "source": [
    "# model.load_state_dict(torch.load(os.path.join(path_to_checkpoints, \"best_checkpoint.pt\"), map_location=torch.device('cpu')))"
   ]
  },
  {
   "cell_type": "code",
   "execution_count": 4,
   "metadata": {},
   "outputs": [],
   "source": [
    "# model.load_state_dict(torch.load(os.path.join(path_to_checkpoints, \"best_checkpoint.pt\")))"
   ]
  },
  {
   "cell_type": "code",
   "execution_count": 5,
   "metadata": {},
   "outputs": [],
   "source": [
    "# test_preds = inference(model, dataset_test, batch_size=128, device=device)"
   ]
  },
  {
   "cell_type": "code",
   "execution_count": 6,
   "metadata": {},
   "outputs": [],
   "source": [
    "# train_preds = inference(model, dataset_train, batch_size=128, device=device)\n",
    "# train_preds"
   ]
  },
  {
   "cell_type": "code",
   "execution_count": 7,
   "metadata": {},
   "outputs": [],
   "source": [
    "# pd.Series(train_preds.score, dtype='int64')"
   ]
  },
  {
   "cell_type": "code",
   "execution_count": 8,
   "metadata": {},
   "outputs": [],
   "source": [
    "# train_preds.score.max()"
   ]
  },
  {
   "cell_type": "code",
   "execution_count": 9,
   "metadata": {},
   "outputs": [],
   "source": [
    "# train_target[:2700000].flag"
   ]
  },
  {
   "cell_type": "code",
   "execution_count": 29,
   "metadata": {},
   "outputs": [],
   "source": [
    "# class CreditsxLSTM(nn.Module):\n",
    "#     def __init__(self, features, embedding_projections, hidden_size=258, num_heads=6, layers=['s', 'm', 's'], proj_factor_slstm=4/3, proj_factor_mlstm=2):\n",
    "#         super(CreditsxLSTM, self).__init__()\n",
    "#         self.embedding_projections = nn.ModuleList([self._create_embedding_projection(*embedding_projections[feature]) for feature in features])\n",
    "#         self.input_size = sum([embedding_projections[feature][1] for feature in features])\n",
    "#         print(self.input_size)\n",
    "#         self.xlstm = xLSTM(input_size=self.input_size, hidden_size=hidden_size, num_heads=num_heads, layers=layers, proj_factor_slstm=proj_factor_slstm, proj_factor_mlstm=proj_factor_mlstm, batch_first=True)\n",
    "#         self.hidden_size = hidden_size\n",
    "#         self.top_classifier = nn.Linear(hidden_size, 32)\n",
    "#         self.intermediate_activation = nn.ReLU()\n",
    "#         self.head = nn.Linear(32, 1)\n",
    "\n",
    "#     def forward(self, features):\n",
    "#         batch_size = features[0].shape[0]\n",
    "#         embeddings = [embedding(features[i]) for i, embedding in enumerate(self.embedding_projections)]\n",
    "#         concated_embeddings = torch.cat(embeddings, dim=-1)\n",
    "\n",
    "\n",
    "#         output, last_hidden = self.xlstm(concated_embeddings)\n",
    "#         #last_hidden = state[-1]\n",
    "#         #last_hidden = last_hidden[0]\n",
    "\n",
    "\n",
    "#         last_hidden_mean = torch.mean(last_hidden[-1], dim=0, keepdim=True)  # Теперь last_hidden_mean имеет размерность (1, 128, 258)\n",
    "\n",
    "\n",
    "        \n",
    "#         last_hidden_mean = torch.reshape(last_hidden_mean.permute(1, 2, 0), shape=(batch_size, self.hidden_size))\n",
    "        \n",
    "#         classification_hidden = self.top_classifier(last_hidden_mean)\n",
    "#         activation = self.intermediate_activation(classification_hidden)\n",
    "#         raw_output = self.head(activation)\n",
    "#         return raw_output\n",
    "\n",
    "#     @classmethod\n",
    "#     def _create_embedding_projection(cls, cardinality, embed_size, add_missing=True, padding_idx=0):\n",
    "#         add_missing = 1 if add_missing else 0\n",
    "#         return nn.Embedding(num_embeddings=cardinality + add_missing, embedding_dim=embed_size, padding_idx=padding_idx)"
   ]
  }
 ],
 "metadata": {
  "kernelspec": {
   "display_name": "Python 3 (ipykernel)",
   "language": "python",
   "name": "python3"
  },
  "language_info": {
   "codemirror_mode": {
    "name": "ipython",
    "version": 3
   },
   "file_extension": ".py",
   "mimetype": "text/x-python",
   "name": "python",
   "nbconvert_exporter": "python",
   "pygments_lexer": "ipython3",
   "version": "3.9.13"
  }
 },
 "nbformat": 4,
 "nbformat_minor": 4
}
